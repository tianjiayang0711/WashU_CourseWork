{
 "cells": [
  {
   "cell_type": "markdown",
   "metadata": {},
   "source": [
    "# Assignment 2 - Problem A (More Concise, without reading data from external source)\n",
    "\n",
    "\n",
    "$$ \\sum_{i=H,C,M,P,j=H,C,M,P,} r_{ij}x_{ij}\\\\\n",
    "s.t. \\\\\n",
    "Capacity(HC): x_{HC}+x_{MC}+x_{PC} \\le 240 \\\\\n",
    "Capacity(HM): x_{HM}+x_{CM}+x_{PM} \\le 240 \\\\\n",
    "Capacity(HP): x_{HP}+x_{CP}+x_{MP} \\le 240 \\\\\n",
    "Capacity(CH): x_{CH}+x_{CM}+x_{CP} \\le 240 \\\\\n",
    "Capacity(MH): x_{MH}+x_{MC}+x_{MP} \\le 240 \\\\\n",
    "Capacity(PH): x_{PH}+x_{PC}+x_{PM} \\le 240 \\\\\n",
    "Demand: x_{ij} \\le d_{ij}\\\\\n",
    "$$"
   ]
  },
  {
   "cell_type": "markdown",
   "metadata": {},
   "source": [
    "## Step 1: Import PuLP modeler functions"
   ]
  },
  {
   "cell_type": "code",
   "execution_count": 1,
   "metadata": {},
   "outputs": [],
   "source": [
    "from pulp import *\n",
    "#import pandas as pd\n",
    "#import numpy as np"
   ]
  },
  {
   "cell_type": "markdown",
   "metadata": {},
   "source": [
    "## Step 2: Define a variable using LpProblem to represent the optimization problem\n",
    "\n",
    "- give the variable a name, for examle **probA**\n",
    "- use **LpProblem** class: **LpProblem(name='NoName', sense=1)**. Parameters are explained below:\n",
    "- **name**:name of the problem used in the output .lp file\n",
    "- **sense**: type of the LP problem objective. Either LpMinimize (default) or LpMaximize.\n",
    "- LpProblem returns an LP problem"
   ]
  },
  {
   "cell_type": "code",
   "execution_count": 2,
   "metadata": {},
   "outputs": [],
   "source": [
    "probA=LpProblem(\"Problem A\",LpMaximize)"
   ]
  },
  {
   "cell_type": "markdown",
   "metadata": {},
   "source": [
    "## Step 3: Define decision variables using LpVariable\n",
    "- give each decision variable a name, say **xhc** represents the number passengers to fly from Houston to Chicago\n",
    "- use **LpVariable** class: **LpVariable(name, lowBound=None, upBound=None, cat='Continuous', e=None)**. Parameters are explained below:\n",
    "- **name**:The name of the variable used in the output .lp file\n",
    "- **lowBound**: The lower bound on this variable’s range. Default is negative infinity\n",
    "- **upBound**: The upper bound on this variable’s range. Default is positive infinity\n",
    "- **cat**:  The category this variable is in, Integer, Binary or Continuous(default)\n",
    "- **e**: Used for column based modelling: relates to the variable’s existence in the objective function and constraints"
   ]
  },
  {
   "cell_type": "code",
   "execution_count": 3,
   "metadata": {},
   "outputs": [
    {
     "name": "stdout",
     "output_type": "stream",
     "text": [
      "[('H', 'H'), ('H', 'C'), ('H', 'M'), ('H', 'P'), ('C', 'H'), ('C', 'C'), ('C', 'M'), ('C', 'P'), ('M', 'H'), ('M', 'C'), ('M', 'M'), ('M', 'P'), ('P', 'H'), ('P', 'C'), ('P', 'M'), ('P', 'P')]\n"
     ]
    }
   ],
   "source": [
    "# creates a list of all cities\n",
    "City=['H','C','M','P']\n",
    "# Creates a list of tuples containing all the possible routes for transport\n",
    "Routes = [(fr, to) for fr in City for to in City]\n",
    "print(Routes)\n",
    "# Creates a list of demand for each route\n",
    "MaxDemand= [[0,123,80,110],\\\n",
    "            [130, 0, 98, 88],\\\n",
    "            [72, 105, 0, 68],\\\n",
    "            [115,90,66,0]]\n",
    "# The demand data is made into a dictionary\n",
    "MaxDemand= makeDict([City,City],MaxDemand)\n",
    "\n",
    "# Creates a list of fares\n",
    "Fares = [#'Houston':\\\n",
    "    [0,197,110,125],\\\n",
    "    #'Chicago':\n",
    "    [190, 0, 282, 195],\\\n",
    "    #'Miami':\n",
    "    [108, 292, 0, 238],\\\n",
    "    #'Phoenix':\n",
    "    [110,192,230,0]]\n",
    "# The fares data is made intot a dictionary\n",
    "Fares = makeDict([City,City],Fares,0)\n",
    "Capacity = 240\n",
    "passenger_vars = LpVariable.dicts(\"x\", (City, City),lowBound=0, cat='Continuous')"
   ]
  },
  {
   "cell_type": "code",
   "execution_count": 4,
   "metadata": {},
   "outputs": [],
   "source": [
    "#objective function\n",
    "probA+=lpSum([passenger_vars[fr][to]*Fares[fr][to] for (fr,to) in Routes])\n",
    "# outbound capacity constraint\n",
    "for i in City[1:]:\n",
    "    probA += lpSum([passenger_vars[i][j] for j in City ]) <= Capacity,\"outbound_%s\"%i\n",
    "\n",
    "# inbound capacity constraint    \n",
    "for j in City[1:]:\n",
    "    probA += lpSum([passenger_vars[i][j] for i in City ]) <= Capacity,\"inbound_%s\"%j\n",
    "\n",
    "# demand constraint\n",
    "for i in City:\n",
    "    for j in City:\n",
    "        probA += passenger_vars[i][j] <= MaxDemand[i][j],\"D%s%s\"%(i,j)"
   ]
  },
  {
   "cell_type": "markdown",
   "metadata": {},
   "source": [
    "## Step 5: Run solver\n",
    "\n",
    "- use name.solve(solver=None), where name is the LP problem variable defined by LpProblem\n",
    "- Solve the given Lp problem. \n",
    "- This function changes the problem to make it suitable for solving then calls the solver.actualSolve method to find the solution. \n",
    "- solver – Optional: the specific solver to be used, defaults to the default solver."
   ]
  },
  {
   "cell_type": "code",
   "execution_count": 5,
   "metadata": {},
   "outputs": [
    {
     "name": "stdout",
     "output_type": "stream",
     "text": [
      "Status: Optimal\n"
     ]
    }
   ],
   "source": [
    "probA.writeLP(\"Bluesky2.lp\")\n",
    "probA.solve()\n",
    "print(\"Status:\",LpStatus[probA.status])"
   ]
  },
  {
   "cell_type": "markdown",
   "metadata": {},
   "source": [
    "## Step 6: Print the optiomal solution"
   ]
  },
  {
   "cell_type": "code",
   "execution_count": 8,
   "metadata": {},
   "outputs": [
    {
     "name": "stdout",
     "output_type": "stream",
     "text": [
      "x_C_C = 0.0 \tReduced Cost = -382.0\n",
      "x_C_H = 84.0 \tReduced Cost = 0.0\n",
      "x_C_M = 94.0 \tReduced Cost = 0.0\n",
      "x_C_P = 62.0 \tReduced Cost = 0.0\n",
      "x_H_C = 123.0 \tReduced Cost = 0.0\n",
      "x_H_H = 0.0 \tReduced Cost = 0.0\n",
      "x_H_M = 80.0 \tReduced Cost = 0.0\n",
      "x_H_P = 110.0 \tReduced Cost = 0.0\n",
      "x_M_C = 100.0 \tReduced Cost = 0.0\n",
      "x_M_H = 72.0 \tReduced Cost = 0.0\n",
      "x_M_M = 0.0 \tReduced Cost = -192.0\n",
      "x_M_P = 68.0 \tReduced Cost = 0.0\n",
      "x_P_C = 17.0 \tReduced Cost = 0.0\n",
      "x_P_H = 115.0 \tReduced Cost = 0.0\n",
      "x_P_M = 66.0 \tReduced Cost = 0.0\n",
      "x_P_P = 0.0 \tReduced Cost = -5.0\n",
      "Total revenue= 185593.0\n"
     ]
    }
   ],
   "source": [
    "for v in probA.variables():\n",
    "    print(v.name, \"=\", v.varValue,\"\\tReduced Cost =\", v.dj)\n",
    "print(\"Total revenue=\", value(probA.objective))"
   ]
  },
  {
   "cell_type": "code",
   "execution_count": 7,
   "metadata": {},
   "outputs": [
    {
     "name": "stdout",
     "output_type": "stream",
     "text": [
      "\n",
      "Sensitivity Analysis\n",
      "Constraint\t\tShadow Price\tSlack\n",
      "outbound_C : x_C_C + x_C_H + x_C_M + x_C_P <= 240 \t 190.0 \t\t -0.0\n",
      "outbound_M : x_M_C + x_M_H + x_M_M + x_M_P <= 240 \t 100.0 \t\t -0.0\n",
      "outbound_P : x_P_C + x_P_H + x_P_M + x_P_P <= 240 \t -0.0 \t\t 42.0\n",
      "inbound_C : x_C_C + x_H_C + x_M_C + x_P_C <= 240 \t 192.0 \t\t -0.0\n",
      "inbound_M : x_C_M + x_H_M + x_M_M + x_P_M <= 240 \t 92.0 \t\t -0.0\n",
      "inbound_P : x_C_P + x_H_P + x_M_P + x_P_P <= 240 \t 5.0 \t\t -0.0\n",
      "DHH : x_H_H <= 0 \t -0.0 \t\t -0.0\n",
      "DHC : x_H_C <= 123 \t 5.0 \t\t -0.0\n",
      "DHM : x_H_M <= 80 \t 18.0 \t\t -0.0\n",
      "DHP : x_H_P <= 110 \t 120.0 \t\t -0.0\n",
      "DCH : x_C_H <= 130 \t -0.0 \t\t 46.0\n",
      "DCC : x_C_C <= 0 \t -0.0 \t\t -0.0\n",
      "DCM : x_C_M <= 98 \t -0.0 \t\t 4.0\n",
      "DCP : x_C_P <= 88 \t -0.0 \t\t 26.0\n",
      "DMH : x_M_H <= 72 \t 8.0 \t\t -0.0\n",
      "DMC : x_M_C <= 105 \t -0.0 \t\t 5.0\n",
      "DMM : x_M_M <= 0 \t -0.0 \t\t -0.0\n",
      "DMP : x_M_P <= 68 \t 133.0 \t\t -0.0\n",
      "DPH : x_P_H <= 115 \t 110.0 \t\t -0.0\n",
      "DPC : x_P_C <= 90 \t -0.0 \t\t 73.0\n",
      "DPM : x_P_M <= 66 \t 138.0 \t\t -0.0\n",
      "DPP : x_P_P <= 0 \t -0.0 \t\t -0.0\n"
     ]
    }
   ],
   "source": [
    "print(\"\\nSensitivity Analysis\\nConstraint\\t\\tShadow Price\\tSlack\")\n",
    "for name, c in list(probA.constraints.items()):\n",
    "    print(name, \":\", c, \"\\t\", c.pi, \"\\t\\t\", c.slack)\n"
   ]
  },
  {
   "cell_type": "markdown",
   "metadata": {},
   "source": [
    "## Problem C\n",
    "\n",
    "\n",
    "$$ \\sum_{i=H,C,M,P,j=H,C,M,P,} r_{ij}x_{ij} -\\sum_{i=C,M,P}(24000+80y_i)\\\\\n",
    "s.t. \\\\\n",
    "Capacity(HC): x_{HC}+x_{MC}+x_{PC} -y_C \\le 240 \\\\\n",
    "Capacity(HM): x_{HM}+x_{CM}+x_{PM} -y_M \\le 240 \\\\\n",
    "Capacity(HP): x_{HP}+x_{CP}+x_{MP} -y_P \\le 240 \\\\\n",
    "Capacity(CH): x_{CH}+x_{CM}+x_{CP} -y_C\\le 240 \\\\\n",
    "Capacity(MH): x_{MH}+x_{MC}+x_{MP} -y_H\\le 240 \\\\\n",
    "Capacity(PH): x_{PH}+x_{PC}+x_{PM} -y_P\\le 240 \\\\\n",
    "Demand: x_{ij} \\le d_{ij}\\\\\n",
    "$$"
   ]
  },
  {
   "cell_type": "code",
   "execution_count": 75,
   "metadata": {},
   "outputs": [
    {
     "name": "stdout",
     "output_type": "stream",
     "text": [
      "Status: Optimal\n"
     ]
    }
   ],
   "source": [
    "probC=LpProblem(\"Problem C\",LpMaximize)\n",
    "y_vars=LpVariable.dict(\"y_%s\",[\"C\",\"M\",\"P\"],lowBound=0)\n",
    "probC+=lpSum([passenger_vars[fr][to]*Fares[fr][to] for (fr,to) in Routes])-lpSum([24000+80*y_vars[i] for i in [\"C\",\"M\",\"P\"]]), \"profit\"\n",
    "for i in City[1:]:\n",
    "    probC += lpSum([passenger_vars[i][j] for j in City])-y_vars[i] <= 0,\"outbound_%s\"%i\n",
    "\n",
    "# inbound capacity constraint    \n",
    "for j in City[1:]:\n",
    "    probC += lpSum([passenger_vars[i][j] for i in City])-y_vars[j] <= 0,\"inbound_%s\"%j\n",
    "\n",
    "# demand constraint\n",
    "for i in City:\n",
    "    for j in City:\n",
    "        probC += passenger_vars[i][j] <= MaxDemand[i][j],\"D%s%s\"%(i,j)\n",
    "statusC=probC.solve()\n",
    "probC.writeLP(\"Bluesky2C.lp\")\n",
    "print(\"Status:\",LpStatus[probC.status])"
   ]
  },
  {
   "cell_type": "code",
   "execution_count": 76,
   "metadata": {},
   "outputs": [
    {
     "name": "stdout",
     "output_type": "stream",
     "text": [
      "x_C_C = 0.0 \tReduced Cost = -80.0\n",
      "x_C_H = 130.0 \tReduced Cost = 0.0\n",
      "x_C_M = 98.0 \tReduced Cost = 0.0\n",
      "x_C_P = 88.0 \tReduced Cost = 0.0\n",
      "x_H_C = 123.0 \tReduced Cost = 0.0\n",
      "x_H_H = 0.0 \tReduced Cost = 0.0\n",
      "x_H_M = 80.0 \tReduced Cost = 0.0\n",
      "x_H_P = 110.0 \tReduced Cost = 0.0\n",
      "x_M_C = 105.0 \tReduced Cost = 0.0\n",
      "x_M_H = 72.0 \tReduced Cost = 0.0\n",
      "x_M_M = 0.0 \tReduced Cost = -80.0\n",
      "x_M_P = 68.0 \tReduced Cost = 0.0\n",
      "x_P_C = 90.0 \tReduced Cost = 0.0\n",
      "x_P_H = 115.0 \tReduced Cost = 0.0\n",
      "x_P_M = 66.0 \tReduced Cost = 0.0\n",
      "x_P_P = 0.0 \tReduced Cost = -80.0\n",
      "y_C = 318.0 \tReduced Cost = 0.0\n",
      "y_M = 245.0 \tReduced Cost = 0.0\n",
      "y_P = 271.0 \tReduced Cost = 0.0\n",
      "Total revenue= 77287.0\n"
     ]
    }
   ],
   "source": [
    "for v in probC.variables():\n",
    "    print(v.name, \"=\", v.varValue,\"\\tReduced Cost =\", v.dj)\n",
    "print(\"Total revenue=\", value(probC.objective))"
   ]
  },
  {
   "cell_type": "code",
   "execution_count": 77,
   "metadata": {},
   "outputs": [
    {
     "name": "stdout",
     "output_type": "stream",
     "text": [
      "\n",
      "Sensitivity Analysis\n",
      "Constraint\t\tShadow Price\tSlack\n",
      "outbound_C : x_C_C + x_C_H + x_C_M + x_C_P <= 240 \t 190.0 \t\t -0.0\n",
      "outbound_M : x_M_C + x_M_H + x_M_M + x_M_P <= 240 \t 100.0 \t\t -0.0\n",
      "outbound_P : x_P_C + x_P_H + x_P_M + x_P_P <= 240 \t -0.0 \t\t 42.0\n",
      "inbound_C : x_C_C + x_H_C + x_M_C + x_P_C <= 240 \t 192.0 \t\t -0.0\n",
      "inbound_M : x_C_M + x_H_M + x_M_M + x_P_M <= 240 \t 92.0 \t\t -0.0\n",
      "inbound_P : x_C_P + x_H_P + x_M_P + x_P_P <= 240 \t 5.0 \t\t -0.0\n",
      "DHH : x_H_H <= 0 \t -0.0 \t\t -0.0\n",
      "DHC : x_H_C <= 123 \t 5.0 \t\t -0.0\n",
      "DHM : x_H_M <= 80 \t 18.0 \t\t -0.0\n",
      "DHP : x_H_P <= 110 \t 120.0 \t\t -0.0\n",
      "DCH : x_C_H <= 130 \t -0.0 \t\t 46.0\n",
      "DCC : x_C_C <= 0 \t -0.0 \t\t -0.0\n",
      "DCM : x_C_M <= 98 \t -0.0 \t\t 4.0\n",
      "DCP : x_C_P <= 88 \t -0.0 \t\t 26.0\n",
      "DMH : x_M_H <= 72 \t 8.0 \t\t -0.0\n",
      "DMC : x_M_C <= 105 \t -0.0 \t\t 5.0\n",
      "DMM : x_M_M <= 0 \t -0.0 \t\t -0.0\n",
      "DMP : x_M_P <= 68 \t 133.0 \t\t -0.0\n",
      "DPH : x_P_H <= 115 \t 110.0 \t\t -0.0\n",
      "DPC : x_P_C <= 90 \t -0.0 \t\t 73.0\n",
      "DPM : x_P_M <= 66 \t 138.0 \t\t -0.0\n",
      "DPP : x_P_P <= 0 \t -0.0 \t\t -0.0\n"
     ]
    }
   ],
   "source": [
    "print(\"\\nSensitivity Analysis\\nConstraint\\t\\tShadow Price\\tSlack\")\n",
    "for name, c in list(probA.constraints.items()):\n",
    "    print(name, \":\", c, \"\\t\", c.pi, \"\\t\\t\", c.slack)\n"
   ]
  }
 ],
 "metadata": {
  "kernelspec": {
   "display_name": "Python 3",
   "language": "python",
   "name": "python3"
  },
  "language_info": {
   "codemirror_mode": {
    "name": "ipython",
    "version": 3
   },
   "file_extension": ".py",
   "mimetype": "text/x-python",
   "name": "python",
   "nbconvert_exporter": "python",
   "pygments_lexer": "ipython3",
   "version": "3.6.5"
  }
 },
 "nbformat": 4,
 "nbformat_minor": 2
}
