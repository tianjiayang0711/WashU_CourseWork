{
 "cells": [
  {
   "cell_type": "markdown",
   "metadata": {},
   "source": [
    "# Assignment 2 - Problem A [Simple Formulation]\n",
    "\n",
    "$$ \\sum_{i=H,C,M,P,j=H,C,M,P,} r_{ij}x_{ij}\\\\\n",
    "s.t. \\\\\n",
    "Capacity(HC): x_{HC}+x_{MC}+x_{PC} \\le 240 \\\\\n",
    "Capacity(HM): x_{HM}+x_{CM}+x_{PM} \\le 240 \\\\\n",
    "Capacity(HP): x_{HP}+x_{CP}+x_{MP} \\le 240 \\\\\n",
    "Capacity(CH): x_{CH}+x_{CM}+x_{CP} \\le 240 \\\\\n",
    "Capacity(MH): x_{MH}+x_{MC}+x_{MP} \\le 240 \\\\\n",
    "Capacity(PH): x_{PH}+x_{PC}+x_{PM} \\le 240 \\\\\n",
    "Demand: x_{ij} \\le d_{ij}\\\\\n",
    "$$"
   ]
  },
  {
   "cell_type": "markdown",
   "metadata": {},
   "source": [
    "## Step 1: Import PuLP modeler functions"
   ]
  },
  {
   "cell_type": "code",
   "execution_count": 4,
   "metadata": {},
   "outputs": [
    {
     "name": "stdout",
     "output_type": "stream",
     "text": [
      "\t Testing zero subtraction\n",
      "\t Testing inconsistant lp solution\n",
      "\t Testing continuous LP solution\n",
      "\t Testing maximize continuous LP solution\n",
      "\t Testing unbounded continuous LP solution\n",
      "\t Testing Long Names\n",
      "\t Testing repeated Names\n",
      "\t Testing zero constraint\n",
      "\t Testing zero objective\n",
      "\t Testing LpVariable (not LpAffineExpression) objective\n",
      "\t Testing Long lines in LP\n",
      "\t Testing LpAffineExpression divide\n",
      "\t Testing MIP solution\n",
      "\t Testing MIP solution with floats in objective\n",
      "\t Testing MIP relaxation\n",
      "\t Testing feasibility problem (no objective)\n",
      "\t Testing an infeasible problem\n",
      "\t Testing an integer infeasible problem\n",
      "\t Testing column based modelling\n",
      "\t Testing dual variables and slacks reporting\n",
      "\t Testing fractional constraints\n",
      "\t Testing elastic constraints (no change)\n",
      "\t Testing elastic constraints (freebound)\n",
      "\t Testing elastic constraints (penalty unchanged)\n",
      "\t Testing elastic constraints (penalty unbounded)\n",
      "* Solver <class 'pulp.solvers.PULP_CBC_CMD'> passed.\n",
      "Solver <class 'pulp.solvers.CPLEX_DLL'> unavailable\n",
      "Solver <class 'pulp.solvers.CPLEX_CMD'> unavailable\n",
      "Solver <class 'pulp.solvers.CPLEX_PY'> unavailable\n",
      "Solver <class 'pulp.solvers.COIN_CMD'> unavailable\n",
      "Solver <class 'pulp.solvers.COINMP_DLL'> unavailable\n",
      "Solver <class 'pulp.solvers.GLPK_CMD'> unavailable\n",
      "Solver <class 'pulp.solvers.XPRESS'> unavailable\n",
      "Solver <class 'pulp.solvers.GUROBI'> unavailable\n",
      "Solver <class 'pulp.solvers.GUROBI_CMD'> unavailable\n",
      "Solver <class 'pulp.solvers.PYGLPK'> unavailable\n",
      "Solver <class 'pulp.solvers.YAPOSIB'> unavailable\n"
     ]
    }
   ],
   "source": [
    "from pulp import *\n",
    "pulpTestAll()  # test solvers"
   ]
  },
  {
   "cell_type": "markdown",
   "metadata": {},
   "source": [
    "## Step 2: Define a variable using LpProblem to represent the optimization problem\n",
    "\n",
    "- give the variable a name, for examle **probA**\n",
    "- use **LpProblem** class: **LpProblem(name='NoName', sense=1)**. Parameters are explained below:\n",
    "- **name**:name of the problem used in the output .lp file\n",
    "- **sense**: type of the LP problem objective. Either LpMinimize (default) or LpMaximize.\n",
    "- LpProblem returns an LP problem"
   ]
  },
  {
   "cell_type": "code",
   "execution_count": 2,
   "metadata": {},
   "outputs": [],
   "source": [
    "probA=LpProblem(\"Problem A\",LpMaximize)"
   ]
  },
  {
   "cell_type": "markdown",
   "metadata": {},
   "source": [
    "## Step 3: Define decision variables using LpVariable\n",
    "- give each decision variable a name, say **xhc** represents the number passengers to fly from Houston to Chicago\n",
    "- use **LpVariable** class: **LpVariable(name, lowBound=None, upBound=None, cat='Continuous')**. Parameters are explained below:\n",
    "- **name**:The name of the variable used in the output .lp file\n",
    "- **lowBound**: The lower bound on this variable’s range. Default is negative infinity\n",
    "- **upBound**: The upper bound on this variable’s range. Default is positive infinity\n",
    "- **cat**:  The category this variable is in, Integer, Binary or Continuous(default)"
   ]
  },
  {
   "cell_type": "code",
   "execution_count": 3,
   "metadata": {},
   "outputs": [],
   "source": [
    "xhc=LpVariable(\"xhc\",lowBound=0,upBound=123,cat='Continuous')\n",
    "xhm=LpVariable(\"xhm\",lowBound=0,upBound=80,cat='Continuous')\n",
    "xhp=LpVariable(\"xhp\",lowBound=0,upBound=110,cat='Continuous')\n",
    "xch=LpVariable(\"xch\",lowBound=0,upBound=130,cat='Continuous')\n",
    "xcm=LpVariable(\"xcm\",lowBound=0,upBound=98,cat='Continuous')\n",
    "xcp=LpVariable(\"xcp\",lowBound=0,upBound=88,cat='Continuous')\n",
    "xmh=LpVariable(\"xmh\",lowBound=0,upBound=72,cat='Continuous')\n",
    "xmc=LpVariable(\"xmc\",lowBound=0,upBound=105,cat='Continuous')\n",
    "xmp=LpVariable(\"xmp\",lowBound=0,upBound=68,cat='Continuous')\n",
    "xph=LpVariable(\"xph\",lowBound=0,upBound=115,cat='Continuous')\n",
    "xpc=LpVariable(\"xpc\",lowBound=0,upBound=90,cat='Continuous')\n",
    "xpm=LpVariable(\"xpm\",lowBound=0,upBound=66,cat='Continuous')"
   ]
  },
  {
   "cell_type": "markdown",
   "metadata": {},
   "source": [
    "## Step 4: Add the objective function and constraints to the LP problem using += operator"
   ]
  },
  {
   "cell_type": "code",
   "execution_count": 5,
   "metadata": {},
   "outputs": [],
   "source": [
    "probA+=(197*xhc+110*xhm+125*xhp+190*xch+282*xcm+195*xcp+\n",
    "        108*xmh+292*xmc+238*xmp+110*xph+192*xpc+230*xpm)\n",
    "probA+=xhc+xmc+xpc<=240,\"cHC\"\n",
    "probA+=xhm+xcm+xpm<=240,\"cHM\"\n",
    "probA+=xhp+xcp+xmp<=240,\"cHP\"\n",
    "probA+=xch+xcm+xcp<=240,\"cCH\"\n",
    "probA+=xmh+xmc+xmp<=240,\"cMH\"\n",
    "probA+=xph+xpc+xpm<=240,\"cPH\""
   ]
  },
  {
   "cell_type": "code",
   "execution_count": 6,
   "metadata": {},
   "outputs": [
    {
     "data": {
      "text/plain": [
       "Problem A:\n",
       "MAXIMIZE\n",
       "190*xch + 282*xcm + 195*xcp + 197*xhc + 110*xhm + 125*xhp + 292*xmc + 108*xmh + 238*xmp + 192*xpc + 110*xph + 230*xpm + 0\n",
       "SUBJECT TO\n",
       "cHC: xhc + xmc + xpc <= 240\n",
       "\n",
       "cHM: xcm + xhm + xpm <= 240\n",
       "\n",
       "cHP: xcp + xhp + xmp <= 240\n",
       "\n",
       "cCH: xch + xcm + xcp <= 240\n",
       "\n",
       "cMH: xmc + xmh + xmp <= 240\n",
       "\n",
       "cPH: xpc + xph + xpm <= 240\n",
       "\n",
       "VARIABLES\n",
       "xch <= 130 Continuous\n",
       "xcm <= 98 Continuous\n",
       "xcp <= 88 Continuous\n",
       "xhc <= 123 Continuous\n",
       "xhm <= 80 Continuous\n",
       "xhp <= 110 Continuous\n",
       "xmc <= 105 Continuous\n",
       "xmh <= 72 Continuous\n",
       "xmp <= 68 Continuous\n",
       "xpc <= 90 Continuous\n",
       "xph <= 115 Continuous\n",
       "xpm <= 66 Continuous"
      ]
     },
     "execution_count": 6,
     "metadata": {},
     "output_type": "execute_result"
    }
   ],
   "source": [
    "probA"
   ]
  },
  {
   "cell_type": "markdown",
   "metadata": {},
   "source": [
    "## Step 5: Run solver\n",
    "\n",
    "- use name.writeLP(\"filename.lp\"), where name is the LP problem variable defined by LpProblem to store the LP problem formulation in an .lp file.\n",
    "- use name.solve(solver=None), where name is the LP problem variable defined by LpProblem\n",
    "- Solve the given Lp problem. \n",
    "- This function changes the problem to make it suitable for solving then calls the solver.actualSolve method to find the solution. \n",
    "- solver – Optional: the specific solver to be used, defaults to the default solver."
   ]
  },
  {
   "cell_type": "code",
   "execution_count": 7,
   "metadata": {},
   "outputs": [
    {
     "name": "stdout",
     "output_type": "stream",
     "text": [
      "Status: Optimal\n"
     ]
    }
   ],
   "source": [
    "probA.writeLP(\"Bluesky1.lp\") #optional\n",
    "probA.solve()\n",
    "print(\"Status:\",LpStatus[probA.status])"
   ]
  },
  {
   "cell_type": "markdown",
   "metadata": {},
   "source": [
    "## Step 6: Print the optiomal solution"
   ]
  },
  {
   "cell_type": "code",
   "execution_count": 99,
   "metadata": {},
   "outputs": [
    {
     "name": "stdout",
     "output_type": "stream",
     "text": [
      "xch = 84.0 \tReduced Cost = -0.0\n",
      "xcm = 94.0 \tReduced Cost = -0.0\n",
      "xcp = 62.0 \tReduced Cost = -0.0\n",
      "xhc = 123.0 \tReduced Cost = 5.0\n",
      "xhm = 80.0 \tReduced Cost = 18.0\n",
      "xhp = 110.0 \tReduced Cost = 120.0\n",
      "xmc = 100.0 \tReduced Cost = -0.0\n",
      "xmh = 72.0 \tReduced Cost = 8.0\n",
      "xmp = 68.0 \tReduced Cost = 133.0\n",
      "xpc = 17.0 \tReduced Cost = -0.0\n",
      "xph = 115.0 \tReduced Cost = 110.0\n",
      "xpm = 66.0 \tReduced Cost = 138.0\n",
      "Total revenue= 185593.0\n"
     ]
    }
   ],
   "source": [
    "for v in probA.variables():\n",
    "    print(v.name, \"=\", v.varValue,\"\\tReduced Cost =\", v.dj)\n",
    "    \n",
    "print(\"Total revenue=\", value(probA.objective))"
   ]
  },
  {
   "cell_type": "markdown",
   "metadata": {},
   "source": [
    "## Step 7: Print sensitivity report"
   ]
  },
  {
   "cell_type": "code",
   "execution_count": 100,
   "metadata": {},
   "outputs": [
    {
     "name": "stdout",
     "output_type": "stream",
     "text": [
      "\n",
      "Sensitivity Analysis\n",
      "Constraint\t\tShadow Price\tSlack\n",
      "cHC : xhc + xmc + xpc <= 240 \t 192.0 \t\t -0.0\n",
      "cHM : xcm + xhm + xpm <= 240 \t 92.0 \t\t -0.0\n",
      "cHP : xcp + xhp + xmp <= 240 \t 5.0 \t\t -0.0\n",
      "cCH : xch + xcm + xcp <= 240 \t 190.0 \t\t -0.0\n",
      "cMH : xmc + xmh + xmp <= 240 \t 100.0 \t\t -0.0\n",
      "cPH : xpc + xph + xpm <= 240 \t -0.0 \t\t 42.0\n"
     ]
    }
   ],
   "source": [
    "print(\"\\nSensitivity Analysis\\nConstraint\\t\\tShadow Price\\tSlack\")\n",
    "for name, c in list(probA.constraints.items()):\n",
    "    print(name, \":\", c, \"\\t\", c.pi, \"\\t\\t\", c.slack)"
   ]
  },
  {
   "cell_type": "markdown",
   "metadata": {},
   "source": [
    "## Problem C"
   ]
  },
  {
   "cell_type": "code",
   "execution_count": 11,
   "metadata": {
    "collapsed": true
   },
   "outputs": [],
   "source": [
    "probC=LpProblem(\"Problem C\",LpMaximize)\n",
    "yc=LpVariable(\"yc\",lowBound=0,cat=\"Continous\")\n",
    "ym=LpVariable(\"ym\",lowBound=0,cat=\"Continuous\")\n",
    "yp=LpVariable(\"yp\",lowBound=0,cat=\"Continuous\")\n",
    "probC+=(197*xhc+110*xhm+125*xhp-24000-80*yc\n",
    "        +190*xch+282*xcm+195*xcp-24000-80*ym\n",
    "        +108*xmh+292*xmc+238*xmp-24000-80*yp\n",
    "        +110*xph+192*xpc+230*xpm)\n",
    "probC+=xhc+xmc+xpc<=yc\n",
    "probC+=xhm+xcm+xpm<=ym\n",
    "probC+=xhp+xcp+xmp<=yp\n",
    "probC+=xch+xcm+xcp<=yc\n",
    "probC+=xmh+xmc+xmp<=ym\n",
    "probC+=xph+xpc+xpm<=yp\n",
    "statusC=probC.solve()"
   ]
  },
  {
   "cell_type": "code",
   "execution_count": 12,
   "metadata": {},
   "outputs": [
    {
     "name": "stdout",
     "output_type": "stream",
     "text": [
      "xch = 130.0 \tReduced Cost = 190.0\n",
      "xcm = 98.0 \tReduced Cost = 282.0\n",
      "xcp = 88.0 \tReduced Cost = 195.0\n",
      "xhc = 123.0 \tReduced Cost = 117.0\n",
      "xhm = 80.0 \tReduced Cost = 110.0\n",
      "xhp = 110.0 \tReduced Cost = 125.0\n",
      "xmc = 105.0 \tReduced Cost = 132.0\n",
      "xmh = 72.0 \tReduced Cost = 28.0\n",
      "xmp = 68.0 \tReduced Cost = 158.0\n",
      "xpc = 90.0 \tReduced Cost = 32.0\n",
      "xph = 115.0 \tReduced Cost = 30.0\n",
      "xpm = 66.0 \tReduced Cost = 150.0\n",
      "yc = 318.0 \tReduced Cost = -0.0\n",
      "ym = 245.0 \tReduced Cost = -0.0\n",
      "yp = 271.0 \tReduced Cost = -0.0\n",
      "Total revenue= 77287.0\n"
     ]
    }
   ],
   "source": [
    "for v in probC.variables():\n",
    "    print(v.name, \"=\", v.varValue,\"\\tReduced Cost =\", v.dj)\n",
    "print(\"Total revenue=\", value(probC.objective))"
   ]
  },
  {
   "cell_type": "code",
   "execution_count": 13,
   "metadata": {},
   "outputs": [
    {
     "name": "stdout",
     "output_type": "stream",
     "text": [
      "\n",
      "Sensitivity Analysis\n",
      "Constraint\t\tShadow Price\tSlack\n",
      "_C1 : xhc + xmc + xpc - yc <= 0 \t 80.0 \t\t -0.0\n",
      "_C2 : xcm + xhm + xpm - ym <= 0 \t -0.0 \t\t 1.0\n",
      "_C3 : xcp + xhp + xmp - yp <= 0 \t -0.0 \t\t 5.0\n",
      "_C4 : xch + xcm + xcp - yc <= 0 \t -0.0 \t\t 2.0\n",
      "_C5 : xmc + xmh + xmp - ym <= 0 \t 80.0 \t\t -0.0\n",
      "_C6 : xpc + xph + xpm - yp <= 0 \t 80.0 \t\t -0.0\n"
     ]
    }
   ],
   "source": [
    "print(\"\\nSensitivity Analysis\\nConstraint\\t\\tShadow Price\\tSlack\")\n",
    "for name, c in list(probC.constraints.items()):\n",
    "    print(name, \":\", c, \"\\t\", c.pi, \"\\t\\t\", c.slack)"
   ]
  },
  {
   "cell_type": "code",
   "execution_count": null,
   "metadata": {
    "collapsed": true
   },
   "outputs": [],
   "source": []
  }
 ],
 "metadata": {
  "kernelspec": {
   "display_name": "Python 3",
   "language": "python",
   "name": "python3"
  },
  "language_info": {
   "codemirror_mode": {
    "name": "ipython",
    "version": 3
   },
   "file_extension": ".py",
   "mimetype": "text/x-python",
   "name": "python",
   "nbconvert_exporter": "python",
   "pygments_lexer": "ipython3",
   "version": "3.6.5"
  }
 },
 "nbformat": 4,
 "nbformat_minor": 2
}
