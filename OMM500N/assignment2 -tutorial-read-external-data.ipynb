{
 "cells": [
  {
   "cell_type": "markdown",
   "metadata": {},
   "source": [
    "# Assignment 2 - Problem A (More Concise, Read Data from External Sources)"
   ]
  },
  {
   "cell_type": "markdown",
   "metadata": {},
   "source": [
    "## Step 1: Import PuLP modeler functions"
   ]
  },
  {
   "cell_type": "code",
   "execution_count": 1,
   "metadata": {},
   "outputs": [],
   "source": [
    "from pulp import *\n",
    "import pandas as pd\n",
    "import numpy as np"
   ]
  },
  {
   "cell_type": "code",
   "execution_count": 2,
   "metadata": {},
   "outputs": [
    {
     "name": "stdout",
     "output_type": "stream",
     "text": [
      "\n",
      "INSTALLED VERSIONS\n",
      "------------------\n",
      "commit: None\n",
      "python: 3.6.5.final.0\n",
      "python-bits: 64\n",
      "OS: Windows\n",
      "OS-release: 10\n",
      "machine: AMD64\n",
      "processor: Intel64 Family 6 Model 94 Stepping 3, GenuineIntel\n",
      "byteorder: little\n",
      "LC_ALL: None\n",
      "LANG: None\n",
      "LOCALE: None.None\n",
      "\n",
      "pandas: 0.23.0\n",
      "pytest: 3.5.1\n",
      "pip: 18.1\n",
      "setuptools: 40.2.0\n",
      "Cython: 0.28.2\n",
      "numpy: 1.14.3\n",
      "scipy: 1.1.0\n",
      "pyarrow: 0.10.0\n",
      "xarray: None\n",
      "IPython: 6.4.0\n",
      "sphinx: 1.7.4\n",
      "patsy: 0.5.0\n",
      "dateutil: 2.6.1\n",
      "pytz: 2018.4\n",
      "blosc: None\n",
      "bottleneck: 1.2.1\n",
      "tables: 3.4.3\n",
      "numexpr: 2.6.5\n",
      "feather: 0.4.0\n",
      "matplotlib: 2.2.2\n",
      "openpyxl: 2.5.3\n",
      "xlrd: 1.1.0\n",
      "xlwt: 1.3.0\n",
      "xlsxwriter: 1.0.4\n",
      "lxml: 4.2.1\n",
      "bs4: 4.6.0\n",
      "html5lib: 1.0.1\n",
      "sqlalchemy: 1.2.7\n",
      "pymysql: 0.9.2\n",
      "psycopg2: None\n",
      "jinja2: 2.10\n",
      "s3fs: None\n",
      "fastparquet: None\n",
      "pandas_gbq: None\n",
      "pandas_datareader: None\n"
     ]
    }
   ],
   "source": [
    "pd.show_versions()"
   ]
  },
  {
   "cell_type": "markdown",
   "metadata": {},
   "source": [
    "## Step 2: Define a variable using LpProblem to represent the optimization problem\n",
    "\n",
    "- give the variable a name, for examle **probA**\n",
    "- use **LpProblem** class: **LpProblem(name='NoName', sense=1)**. Parameters are explained below:\n",
    "- **name**:name of the problem used in the output .lp file\n",
    "- **sense**: type of the LP problem objective. Either LpMinimize (default) or LpMaximize.\n",
    "- LpProblem returns an LP problem"
   ]
  },
  {
   "cell_type": "code",
   "execution_count": 6,
   "metadata": {},
   "outputs": [],
   "source": [
    "probA=LpProblem(\"Problem A\",LpMaximize)"
   ]
  },
  {
   "cell_type": "markdown",
   "metadata": {},
   "source": [
    "## Step 3: Define decision variables using LpVariable\n",
    "- give each decision variable a name, say **xhc** represents the number passengers to fly from Houston to Chicago\n",
    "- use **LpVariable** class: **LpVariable(name, lowBound=None, upBound=None, cat='Continuous', e=None)**. Parameters are explained below:\n",
    "- **name**:The name of the variable used in the output .lp file\n",
    "- **lowBound**: The lower bound on this variable’s range. Default is negative infinity\n",
    "- **upBound**: The upper bound on this variable’s range. Default is positive infinity\n",
    "- **cat**:  The category this variable is in, Integer, Binary or Continuous(default)\n",
    "- **e**: Used for column based modelling: relates to the variable’s existence in the objective function and constraints"
   ]
  },
  {
   "cell_type": "code",
   "execution_count": 7,
   "metadata": {},
   "outputs": [
    {
     "name": "stdout",
     "output_type": "stream",
     "text": [
      "   BlueSky Airlines: Network Revenue Management (A)  \\\n",
      "0                                               NaN   \n",
      "1                                               NaN   \n",
      "2                                               NaN   \n",
      "3                                               NaN   \n",
      "4                                               NaN   \n",
      "5                                               NaN   \n",
      "6                                               NaN   \n",
      "7                                               NaN   \n",
      "\n",
      "                   Unnamed: 1 Unnamed: 2   Unnamed: 3 Unnamed: 4 Unnamed: 5  \\\n",
      "0                         NaN        NaN          NaN        NaN        NaN   \n",
      "1  revenue for each city pair        NaN          NaN        NaN        NaN   \n",
      "2                         NaN        NaN  Destination        NaN        NaN   \n",
      "3                         NaN        NaN      Houston    Chicago      Miami   \n",
      "4                      Origin    Houston            0        197        110   \n",
      "5                         NaN    Chicago          190          0        282   \n",
      "6                         NaN      Miami          108        292          0   \n",
      "7                         NaN    Phoenix          110        192        230   \n",
      "\n",
      "  Unnamed: 6  \n",
      "0        NaN  \n",
      "1        NaN  \n",
      "2        NaN  \n",
      "3    Phoenix  \n",
      "4        125  \n",
      "5        195  \n",
      "6        238  \n",
      "7          0  \n",
      "    BlueSky Airlines: Network Revenue Management (A)  \\\n",
      "0                                                NaN   \n",
      "1                                                NaN   \n",
      "2                                                NaN   \n",
      "3                                                NaN   \n",
      "4                                                NaN   \n",
      "5                                                NaN   \n",
      "6                                                NaN   \n",
      "7                                                NaN   \n",
      "8                                                NaN   \n",
      "9                                                NaN   \n",
      "10                                               NaN   \n",
      "\n",
      "                          Unnamed: 1 Unnamed: 2   Unnamed: 3 Unnamed: 4  \\\n",
      "0                                NaN        NaN          NaN        NaN   \n",
      "1                                NaN        NaN          NaN        NaN   \n",
      "2          demand for each city pair        NaN          NaN        NaN   \n",
      "3                                NaN        NaN  Destination     Origin   \n",
      "4                                NaN        NaN      Houston    Chicago   \n",
      "5                             Origin    Houston            0        123   \n",
      "6                        Destination    Chicago          130          0   \n",
      "7                                NaN      Miami           72        105   \n",
      "8                                NaN    Phoenix          115         90   \n",
      "9   Total demand for flight to spoke        NaN            0        318   \n",
      "10                               NaN        NaN          NaN      (H-C)   \n",
      "\n",
      "   Unnamed: 5 Unnamed: 6                      Unnamed: 7 Unnamed: 8  \n",
      "0         NaN        NaN                             NaN        NaN  \n",
      "1         NaN        NaN                             NaN        NaN  \n",
      "2         NaN        NaN                             NaN        NaN  \n",
      "3         NaN        NaN  Total Demand for flight to hub        NaN  \n",
      "4       Miami    Phoenix                             NaN        NaN  \n",
      "5          80        110                               0        NaN  \n",
      "6          98         88                             316      (C-H)  \n",
      "7           0         68                             245      (M-H)  \n",
      "8          66          0                             271      (P-H)  \n",
      "9         244        266                             NaN        NaN  \n",
      "10      (H-M)      (H-P)                             NaN        NaN  \n",
      "[array([  0., 197., 110., 125.]), array([190.,   0., 282., 195.]), array([108., 292.,   0., 238.]), array([110., 192., 230.,   0.])]\n",
      "[array([  0., 123.,  80., 110.]), array([130.,   0.,  98.,  88.]), array([ 72., 105.,   0.,  68.]), array([115.,  90.,  66.,   0.])]\n"
     ]
    }
   ],
   "source": [
    "#import os\n",
    "#os.getcwd()\n",
    "#read data from excel file that is saved in the same directory, saved as Microsoft Excel Worksheet,\n",
    "# Not Microsoft Excel 97-2003 Worksheet'''\n",
    "df_rev=pd.read_excel('Data_BlueSkyAirlines_Network_py.xlsx',sheet_name='revenue')  # can read xlsx saved as Microsoft Excel Worksheet, Not Microsoft Excel 97-2003 Worksheet\n",
    "df_demand=pd.read_excel('Data_BlueSkyAirlines_Network_py.xlsx',sheet_name='demand') \n",
    "#\n",
    "print(df_rev)\n",
    "print(df_demand)\n",
    "# print the dataframe to help figure out iloc value\n",
    "Fares = [np.array(df_rev.iloc[4+i,3:7],dtype=float) for i in range(4)]\n",
    "MaxDemand =[np.array(df_demand.iloc[5+i,3:7],dtype=float) for i in range(4)] # Depending on the version, 4+i need to be changed to 5+i \n",
    "print(Fares)\n",
    "print(MaxDemand)\n",
    "#Demand =np.array(df.iloc[1,1:7],dtype=float)"
   ]
  },
  {
   "cell_type": "code",
   "execution_count": 8,
   "metadata": {},
   "outputs": [],
   "source": [
    "# creates a list of all cities\n",
    "City=['H','C','M','P']\n",
    "# Creates a list of tuples containing all the possible routes for transport\n",
    "Routes = [(fr, to) for fr in City for to in City]\n",
    "\n",
    "MaxDemand= makeDict([City,City],MaxDemand)\n",
    "\n",
    "Fares = makeDict([City,City],Fares,0)\n",
    "Capacity = 240\n",
    "passenger_vars = LpVariable.dicts(\"x\",(City,City),lowBound=0,cat='Continuous')"
   ]
  },
  {
   "cell_type": "code",
   "execution_count": 9,
   "metadata": {},
   "outputs": [],
   "source": [
    "#objective function\n",
    "probA+=lpSum([passenger_vars[fr][to]*Fares[fr][to] for (fr,to) in Routes])\n",
    "# outbound capacity constraint\n",
    "for i in City[1:]:\n",
    "    probA += lpSum([passenger_vars[i][j] for j in City]) <= Capacity,\"outbound_%s\"%i\n",
    "\n",
    "# inbound capacity constraint    \n",
    "for j in City[1:]:\n",
    "    probA += lpSum([passenger_vars[i][j] for i in City]) <= Capacity,\"inbound_%s\"%j\n",
    "\n",
    "# demand constraint\n",
    "for i in City:\n",
    "    for j in City:\n",
    "        probA += passenger_vars[i][j] <= MaxDemand[i][j]"
   ]
  },
  {
   "cell_type": "markdown",
   "metadata": {},
   "source": [
    "## Step 5: Run solver\n",
    "\n",
    "- use name.solve(solver=None), where name is the LP problem variable defined by LpProblem\n",
    "- Solve the given Lp problem. \n",
    "- This function changes the problem to make it suitable for solving then calls the solver.actualSolve method to find the solution. \n",
    "- solver – Optional: the specific solver to be used, defaults to the default solver."
   ]
  },
  {
   "cell_type": "code",
   "execution_count": 10,
   "metadata": {},
   "outputs": [
    {
     "name": "stdout",
     "output_type": "stream",
     "text": [
      "Status: Optimal\n"
     ]
    }
   ],
   "source": [
    "probA.writeLP(\"Bluesky3.lp\")\n",
    "probA.solve()\n",
    "print(\"Status:\",LpStatus[probA.status])"
   ]
  },
  {
   "cell_type": "markdown",
   "metadata": {},
   "source": [
    "## Step 6: Print the optiomal solution"
   ]
  },
  {
   "cell_type": "code",
   "execution_count": 11,
   "metadata": {},
   "outputs": [
    {
     "name": "stdout",
     "output_type": "stream",
     "text": [
      "x_C_C = 0.0 \tReduced Cost = -382.0\n",
      "x_C_H = 84.0 \tReduced Cost = 0.0\n",
      "x_C_M = 94.0 \tReduced Cost = 0.0\n",
      "x_C_P = 62.0 \tReduced Cost = 0.0\n",
      "x_H_C = 123.0 \tReduced Cost = 0.0\n",
      "x_H_H = 0.0 \tReduced Cost = 0.0\n",
      "x_H_M = 80.0 \tReduced Cost = 0.0\n",
      "x_H_P = 110.0 \tReduced Cost = 0.0\n",
      "x_M_C = 100.0 \tReduced Cost = 0.0\n",
      "x_M_H = 72.0 \tReduced Cost = 0.0\n",
      "x_M_M = 0.0 \tReduced Cost = -192.0\n",
      "x_M_P = 68.0 \tReduced Cost = 0.0\n",
      "x_P_C = 17.0 \tReduced Cost = 0.0\n",
      "x_P_H = 115.0 \tReduced Cost = 0.0\n",
      "x_P_M = 66.0 \tReduced Cost = 0.0\n",
      "x_P_P = 0.0 \tReduced Cost = -5.0\n",
      "Total revenue= 185593.0\n"
     ]
    }
   ],
   "source": [
    "for v in probA.variables():\n",
    "    print(v.name, \"=\", v.varValue,\"\\tReduced Cost =\", v.dj)\n",
    "print(\"Total revenue=\", value(probA.objective))"
   ]
  },
  {
   "cell_type": "code",
   "execution_count": 12,
   "metadata": {},
   "outputs": [
    {
     "name": "stdout",
     "output_type": "stream",
     "text": [
      "\n",
      "Sensitivity Analysis\n",
      "Constraint\t\tShadow Price\tSlack\n",
      "outbound_C : x_C_C + x_C_H + x_C_M + x_C_P <= 240 \t 190.0 \t\t -0.0\n",
      "outbound_M : x_M_C + x_M_H + x_M_M + x_M_P <= 240 \t 100.0 \t\t -0.0\n",
      "outbound_P : x_P_C + x_P_H + x_P_M + x_P_P <= 240 \t -0.0 \t\t 42.0\n",
      "inbound_C : x_C_C + x_H_C + x_M_C + x_P_C <= 240 \t 192.0 \t\t -0.0\n",
      "inbound_M : x_C_M + x_H_M + x_M_M + x_P_M <= 240 \t 92.0 \t\t -0.0\n",
      "inbound_P : x_C_P + x_H_P + x_M_P + x_P_P <= 240 \t 5.0 \t\t -0.0\n",
      "_C1 : x_H_H <= -0.0 \t -0.0 \t\t -0.0\n",
      "_C2 : x_H_C <= 123.0 \t 5.0 \t\t -0.0\n",
      "_C3 : x_H_M <= 80.0 \t 18.0 \t\t -0.0\n",
      "_C4 : x_H_P <= 110.0 \t 120.0 \t\t -0.0\n",
      "_C5 : x_C_H <= 130.0 \t -0.0 \t\t 46.0\n",
      "_C6 : x_C_C <= -0.0 \t -0.0 \t\t -0.0\n",
      "_C7 : x_C_M <= 98.0 \t -0.0 \t\t 4.0\n",
      "_C8 : x_C_P <= 88.0 \t -0.0 \t\t 26.0\n",
      "_C9 : x_M_H <= 72.0 \t 8.0 \t\t -0.0\n",
      "_C10 : x_M_C <= 105.0 \t -0.0 \t\t 5.0\n",
      "_C11 : x_M_M <= -0.0 \t -0.0 \t\t -0.0\n",
      "_C12 : x_M_P <= 68.0 \t 133.0 \t\t -0.0\n",
      "_C13 : x_P_H <= 115.0 \t 110.0 \t\t -0.0\n",
      "_C14 : x_P_C <= 90.0 \t -0.0 \t\t 73.0\n",
      "_C15 : x_P_M <= 66.0 \t 138.0 \t\t -0.0\n",
      "_C16 : x_P_P <= -0.0 \t -0.0 \t\t -0.0\n"
     ]
    }
   ],
   "source": [
    "print(\"\\nSensitivity Analysis\\nConstraint\\t\\tShadow Price\\tSlack\")\n",
    "for name, c in list(probA.constraints.items()):\n",
    "    print(name, \":\", c, \"\\t\", c.pi, \"\\t\\t\", c.slack)"
   ]
  },
  {
   "cell_type": "markdown",
   "metadata": {},
   "source": [
    "## Problem C\n",
    "\n",
    "\n",
    "$$ \\sum_{i=H,C,M,P,j=H,C,M,P,} r_{ij}x_{ij} -\\sum_{i=C,M,P}(24000+80y_i)\\\\\n",
    "s.t. \\\\\n",
    "Capacity(HC): x_{HC}+x_{MC}+x_{PC} -y_C \\le 240 \\\\\n",
    "Capacity(HM): x_{HM}+x_{CM}+x_{PM} -y_M \\le 240 \\\\\n",
    "Capacity(HP): x_{HP}+x_{CP}+x_{MP} -y_P \\le 240 \\\\\n",
    "Capacity(CH): x_{CH}+x_{CM}+x_{CP} -y_C\\le 240 \\\\\n",
    "Capacity(MH): x_{MH}+x_{MC}+x_{MP} -y_H\\le 240 \\\\\n",
    "Capacity(PH): x_{PH}+x_{PC}+x_{PM} -y_P\\le 240 \\\\\n",
    "Demand: x_{ij} \\le d_{ij}\\\\\n",
    "$$"
   ]
  },
  {
   "cell_type": "code",
   "execution_count": 40,
   "metadata": {},
   "outputs": [
    {
     "name": "stdout",
     "output_type": "stream",
     "text": [
      "Status: Optimal\n"
     ]
    }
   ],
   "source": [
    "probC=LpProblem(\"Problem C\",LpMaximize)\n",
    "y_vars=LpVariable.dict(\"y_%s\",[\"C\",\"M\",\"P\"],lowBound=0)\n",
    "probC+=lpSum([passenger_vars[fr][to]*Fares[fr][to] for (fr,to) in Routes])-lpSum([24000+80*y_vars[i] for i in [\"C\",\"M\",\"P\"]]), \"profit\"\n",
    "for i in City[1:]:\n",
    "    probC += lpSum([passenger_vars[i][j] for j in City])-y_vars[i] <= 0,\"outbound_%s\"%i\n",
    "\n",
    "# inbound capacity constraint    \n",
    "for j in City[1:]:\n",
    "    probC += lpSum([passenger_vars[i][j] for i in City])-y_vars[j] <= 0,\"inbound_%s\"%j\n",
    "\n",
    "# demand constraint\n",
    "for i in City:\n",
    "    for j in City:\n",
    "        probC += passenger_vars[i][j] <= MaxDemand[i][j],\"demand_%s to %s\"%(i,j)\n",
    "statusC=probC.solve()\n",
    "probC.writeLP(\"Bluesky3C.lp\")\n",
    "print(\"Status:\",LpStatus[probC.status])"
   ]
  },
  {
   "cell_type": "code",
   "execution_count": 41,
   "metadata": {},
   "outputs": [
    {
     "name": "stdout",
     "output_type": "stream",
     "text": [
      "x_C_C = 0.0 \tReduced Cost = -80.0\n",
      "x_C_H = 130.0 \tReduced Cost = 0.0\n",
      "x_C_M = 98.0 \tReduced Cost = 0.0\n",
      "x_C_P = 88.0 \tReduced Cost = 0.0\n",
      "x_H_C = 123.0 \tReduced Cost = 0.0\n",
      "x_H_H = 0.0 \tReduced Cost = 0.0\n",
      "x_H_M = 80.0 \tReduced Cost = 0.0\n",
      "x_H_P = 110.0 \tReduced Cost = 0.0\n",
      "x_M_C = 105.0 \tReduced Cost = 0.0\n",
      "x_M_H = 72.0 \tReduced Cost = 0.0\n",
      "x_M_M = 0.0 \tReduced Cost = -80.0\n",
      "x_M_P = 68.0 \tReduced Cost = 0.0\n",
      "x_P_C = 90.0 \tReduced Cost = 0.0\n",
      "x_P_H = 115.0 \tReduced Cost = 0.0\n",
      "x_P_M = 66.0 \tReduced Cost = 0.0\n",
      "x_P_P = 0.0 \tReduced Cost = -80.0\n",
      "y_C = 318.0 \tReduced Cost = 0.0\n",
      "y_M = 245.0 \tReduced Cost = 0.0\n",
      "y_P = 271.0 \tReduced Cost = 0.0\n",
      "Total revenue= 77287.0\n"
     ]
    }
   ],
   "source": [
    "for v in probC.variables():\n",
    "    print(v.name, \"=\", v.varValue,\"\\tReduced Cost =\", v.dj)\n",
    "print(\"Total revenue=\", value(probC.objective))"
   ]
  },
  {
   "cell_type": "code",
   "execution_count": 42,
   "metadata": {},
   "outputs": [
    {
     "name": "stdout",
     "output_type": "stream",
     "text": [
      "\n",
      "Sensitivity Analysis\n",
      "Constraint\t\tShadow Price\tSlack\n",
      "outbound_C : x_C_C + x_C_H + x_C_M + x_C_P <= 240 \t 190.0 \t\t -0.0\n",
      "outbound_M : x_M_C + x_M_H + x_M_M + x_M_P <= 240 \t 100.0 \t\t -0.0\n",
      "outbound_P : x_P_C + x_P_H + x_P_M + x_P_P <= 240 \t -0.0 \t\t 42.0\n",
      "inbound_C : x_C_C + x_H_C + x_M_C + x_P_C <= 240 \t 192.0 \t\t -0.0\n",
      "inbound_M : x_C_M + x_H_M + x_M_M + x_P_M <= 240 \t 92.0 \t\t -0.0\n",
      "inbound_P : x_C_P + x_H_P + x_M_P + x_P_P <= 240 \t 5.0 \t\t -0.0\n",
      "_C1 : x_H_H <= -0.0 \t -0.0 \t\t -0.0\n",
      "_C2 : x_H_C <= 123.0 \t 5.0 \t\t -0.0\n",
      "_C3 : x_H_M <= 80.0 \t 18.0 \t\t -0.0\n",
      "_C4 : x_H_P <= 110.0 \t 120.0 \t\t -0.0\n",
      "_C5 : x_C_H <= 130.0 \t -0.0 \t\t 46.0\n",
      "_C6 : x_C_C <= -0.0 \t -0.0 \t\t -0.0\n",
      "_C7 : x_C_M <= 98.0 \t -0.0 \t\t 4.0\n",
      "_C8 : x_C_P <= 88.0 \t -0.0 \t\t 26.0\n",
      "_C9 : x_M_H <= 72.0 \t 8.0 \t\t -0.0\n",
      "_C10 : x_M_C <= 105.0 \t -0.0 \t\t 5.0\n",
      "_C11 : x_M_M <= -0.0 \t -0.0 \t\t -0.0\n",
      "_C12 : x_M_P <= 68.0 \t 133.0 \t\t -0.0\n",
      "_C13 : x_P_H <= 115.0 \t 110.0 \t\t -0.0\n",
      "_C14 : x_P_C <= 90.0 \t -0.0 \t\t 73.0\n",
      "_C15 : x_P_M <= 66.0 \t 138.0 \t\t -0.0\n",
      "_C16 : x_P_P <= -0.0 \t -0.0 \t\t -0.0\n"
     ]
    }
   ],
   "source": [
    "print(\"\\nSensitivity Analysis\\nConstraint\\t\\tShadow Price\\tSlack\")\n",
    "for name, c in list(probA.constraints.items()):\n",
    "    print(name, \":\", c, \"\\t\", c.pi, \"\\t\\t\", c.slack)"
   ]
  },
  {
   "cell_type": "code",
   "execution_count": null,
   "metadata": {},
   "outputs": [],
   "source": []
  },
  {
   "cell_type": "code",
   "execution_count": null,
   "metadata": {},
   "outputs": [],
   "source": []
  }
 ],
 "metadata": {
  "kernelspec": {
   "display_name": "Python 3",
   "language": "python",
   "name": "python3"
  },
  "language_info": {
   "codemirror_mode": {
    "name": "ipython",
    "version": 3
   },
   "file_extension": ".py",
   "mimetype": "text/x-python",
   "name": "python",
   "nbconvert_exporter": "python",
   "pygments_lexer": "ipython3",
   "version": "3.6.5"
  }
 },
 "nbformat": 4,
 "nbformat_minor": 2
}
