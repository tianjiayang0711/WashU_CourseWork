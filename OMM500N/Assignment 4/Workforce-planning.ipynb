{
 "cells": [
  {
   "cell_type": "code",
   "execution_count": 1,
   "metadata": {},
   "outputs": [],
   "source": [
    "from pulp import *"
   ]
  },
  {
   "cell_type": "code",
   "execution_count": 2,
   "metadata": {},
   "outputs": [],
   "source": [
    "probA=LpProblem(\"Workforce Planning\",LpMinimize)\n",
    "month=[1,2,3,4,5,6]\n",
    "demand={\n",
    "1:100,\n",
    "2:100,\n",
    "3:115,\n",
    "4:125,\n",
    "5:140,\n",
    "6:150   \n",
    "}\n",
    "\n",
    "turnover= 0.05\n",
    "succ_comp = 0.9\n",
    "prod_inc = 0.2\n",
    "sal_untr = 3000\n",
    "sal_tr = 3300\n",
    "initial_untr =145\n",
    "initial_trained =0\n",
    "\n",
    "untrained_vars = LpVariable.dicts(\"u\", month,lowBound=0, cat='Contiuous')\n",
    "layoff_vars = LpVariable.dicts(\"l\", month,lowBound=0, cat='Contiuous')\n",
    "start_train_vars =LpVariable.dicts(\"x\", month,lowBound=0, cat='Contiuous')\n",
    "trained_vars =LpVariable.dicts(\"tr\", month,lowBound=0, cat='Contiuous')"
   ]
  },
  {
   "cell_type": "code",
   "execution_count": 3,
   "metadata": {},
   "outputs": [
    {
     "name": "stdout",
     "output_type": "stream",
     "text": [
      "i= 1\n",
      "i= 2\n",
      "i= 3\n",
      "i= 4\n",
      "i= 5\n"
     ]
    }
   ],
   "source": [
    "probA += sal_untr*lpSum([untrained_vars[i]-layoff_vars[i] for i in month]) + \\\n",
    "sal_tr*lpSum([trained_vars[i] for i in month]) , \"total salary\"\n",
    "\n",
    "# initial condition\n",
    "probA += untrained_vars[1]==initial_untr,\"initial untrained\"\n",
    "probA += trained_vars[1]==initial_trained,\"initial trained\"\n",
    "\n",
    "for i in month[:len(month)-1]:\n",
    "      # untrained worker blance between months:\n",
    "    probA += (1-turnover)*(untrained_vars[i]-layoff_vars[i]-start_train_vars[i])\\\n",
    "    +(1-succ_comp)*start_train_vars[i] == untrained_vars[i+1],\"untrained_balance_%d\"%i\n",
    "    # trained worker blance between months:\n",
    "    probA += trained_vars[i]+succ_comp*start_train_vars[i] == trained_vars[i+1],\"trained_balance_%d\"%i\n",
    "    #satsify demand in month i\n",
    "    probA += (untrained_vars[i]-layoff_vars[i]-start_train_vars[i])\\\n",
    "    +(1+prod_inc)*trained_vars[i] >= demand[i],\"satisfy demand_%d\"%i\n",
    "    #layoff limit\n",
    "    probA += layoff_vars[i] <= untrained_vars[i],\"layoff limit_%d\"%i\n",
    "    #traininng limit\n",
    "    probA += start_train_vars[i]<= untrained_vars[i]-layoff_vars[i] ,\"training limit_%d\"%i\n",
    "\n",
    "#satsify demand in month 6\n",
    "probA +=(untrained_vars[len(month)]-layoff_vars[len(month)]-start_train_vars[len(month)])\\\n",
    "    +(1+prod_inc)*trained_vars[len(month)] >= demand[len(month)],\"satisfy demand_%d\"%len(month)\n",
    "#layoff limit\n",
    "probA += layoff_vars[len(month)] <= untrained_vars[len(month)],\"layoff limit_%d\"%len(month)\n",
    "#traininng limit\n",
    "probA += start_train_vars[len(month)]<= untrained_vars[len(month)]-layoff_vars[len(month)],\"training limit_%d\"%len(month)\n"
   ]
  },
  {
   "cell_type": "code",
   "execution_count": 9,
   "metadata": {},
   "outputs": [
    {
     "name": "stdout",
     "output_type": "stream",
     "text": [
      "Status: Optimal\n"
     ]
    }
   ],
   "source": [
    "probA.writeLP(\"Workforce.lp\")\n",
    "probA.solve()\n",
    "print(\"Status:\",LpStatus[probA.status])"
   ]
  },
  {
   "cell_type": "code",
   "execution_count": 10,
   "metadata": {},
   "outputs": [
    {
     "name": "stdout",
     "output_type": "stream",
     "text": [
      "l_1 = 8.113002 \tReduced Cost = 0.0\n",
      "l_2 = 0.0 \tReduced Cost = 733.79872\n",
      "l_3 = 0.0 \tReduced Cost = 1660.4629\n",
      "l_4 = 0.0 \tReduced Cost = 2802.8511\n",
      "l_5 = 0.0 \tReduced Cost = 4191.6097\n",
      "l_6 = 0.0 \tReduced Cost = 5865.771\n",
      "tr_1 = 0.0 \tReduced Cost = -4.5474735e-13\n",
      "tr_2 = 33.198298 \tReduced Cost = 0.0\n",
      "tr_3 = 67.87229 \tReduced Cost = 0.0\n",
      "tr_4 = 92.580309 \tReduced Cost = -1.3642421e-12\n",
      "tr_5 = 111.22587 \tReduced Cost = 4.5474735e-13\n",
      "tr_6 = 119.10198 \tReduced Cost = 0.0\n",
      "u_1 = 145.0 \tReduced Cost = 0.0\n",
      "u_2 = 98.6887 \tReduced Cost = 4.5474735e-13\n",
      "u_3 = 61.006606 \tReduced Cost = 2.2737368e-12\n",
      "u_4 = 34.620925 \tReduced Cost = 2.2737368e-13\n",
      "u_5 = 15.280178 \tReduced Cost = 1.1368684e-12\n",
      "u_6 = 7.077626 \tReduced Cost = 0.0\n",
      "x_1 = 36.886998 \tReduced Cost = -9.094947e-13\n",
      "x_2 = 38.526658 \tReduced Cost = -4.5474735e-13\n",
      "x_3 = 27.453354 \tReduced Cost = -1.3642421e-12\n",
      "x_4 = 20.717295 \tReduced Cost = 7.0485839e-12\n",
      "x_5 = 8.7512267 \tReduced Cost = 6.8212103e-13\n",
      "x_6 = 0.0 \tReduced Cost = 8865.771\n",
      "Total cost = 2459812.9641\n"
     ]
    }
   ],
   "source": [
    "for v in probA.variables():\n",
    "    print(v.name, \"=\", v.varValue,\"\\tReduced Cost =\", v.dj)\n",
    "print(\"Total cost =\", value(probA.objective))\n",
    "original_cost=value(probA.objective)"
   ]
  },
  {
   "cell_type": "code",
   "execution_count": null,
   "metadata": {
    "collapsed": true
   },
   "outputs": [],
   "source": []
  }
 ],
 "metadata": {
  "kernelspec": {
   "display_name": "Python 3",
   "language": "python",
   "name": "python3"
  },
  "language_info": {
   "codemirror_mode": {
    "name": "ipython",
    "version": 3
   },
   "file_extension": ".py",
   "mimetype": "text/x-python",
   "name": "python",
   "nbconvert_exporter": "python",
   "pygments_lexer": "ipython3",
   "version": "3.6.5"
  }
 },
 "nbformat": 4,
 "nbformat_minor": 2
}
