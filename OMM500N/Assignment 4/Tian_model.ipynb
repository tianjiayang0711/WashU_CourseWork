{
 "cells": [
  {
   "cell_type": "code",
   "execution_count": 219,
   "metadata": {},
   "outputs": [],
   "source": [
    "from pulp import *\n",
    "import pandas as pd\n",
    "import numpy as np"
   ]
  },
  {
   "cell_type": "code",
   "execution_count": 220,
   "metadata": {},
   "outputs": [],
   "source": [
    "p=LpProblem(\"Dellmar\",LpMinimize)"
   ]
  },
  {
   "cell_type": "code",
   "execution_count": 221,
   "metadata": {},
   "outputs": [],
   "source": [
    "#define variables - Integer\n",
    "\n",
    "XAho=LpVariable(\"XAho\",lowBound=0,upBound=50000,cat='Continuous')\n",
    "XAhn=LpVariable(\"XAhn\",lowBound=0,upBound=50000,cat='Continuous')\n",
    "XMho=LpVariable(\"XMho\",lowBound=0,upBound=50000,cat='Continuous')\n",
    "XMhn=LpVariable(\"XMhn\",lowBound=0,upBound=50000,cat='Continuous')\n",
    "XBAho=LpVariable(\"XBAho\",cat='Binary')\n",
    "XBAhn=LpVariable(\"XBAhn\",cat='Binary')\n",
    "XBMho=LpVariable(\"XBMho\",cat='Binary')\n",
    "XBMhn=LpVariable(\"XBMhn\",cat='Binary')\n",
    "\n",
    "XAow=LpVariable(\"XAow\",lowBound=0,upBound=50000,cat='Continuous')\n",
    "XAom=LpVariable(\"XAom\",lowBound=0,upBound=50000,cat='Continuous')\n",
    "XAne=LpVariable(\"XAne\",lowBound=0,upBound=50000,cat='Continuous')\n",
    "XAnm=LpVariable(\"XAnm\",lowBound=0,upBound=50000,cat='Continuous')\n",
    "XBAow=LpVariable(\"XBAow\",cat='Binary')\n",
    "XBAom=LpVariable(\"XBAom\",cat='Binary')\n",
    "XBAne=LpVariable(\"XBAne\",cat='Binary')\n",
    "XBAnm=LpVariable(\"XBAnm\",cat='Binary')\n",
    "\n",
    "XMow=LpVariable(\"XMow\",lowBound=0,upBound=50000,cat='Continuous')\n",
    "XMom=LpVariable(\"XMom\",lowBound=0,upBound=50000,cat='Continuous')\n",
    "XMnm=LpVariable(\"XMnm\",lowBound=0,upBound=50000,cat='Continuous')\n",
    "XMne=LpVariable(\"XMne\",lowBound=0,upBound=50000,cat='Continuous')\n",
    "XBMow=LpVariable(\"XBMow\",cat='Binary')\n",
    "XBMom=LpVariable(\"XBMom\",cat='Binary')\n",
    "XBMnm=LpVariable(\"XBnm\",cat='Binary')\n",
    "XBMne=LpVariable(\"XBne\",cat='Binary')\n"
   ]
  },
  {
   "cell_type": "code",
   "execution_count": 222,
   "metadata": {},
   "outputs": [],
   "source": [
    "p += (10*XAho + 10*XAhn + 10*XMho + 10*XMhn + 10*XAow + 10*XAom + 10*XAne + 10*XAnm + 10*XMow + 10*XMom + 10*XMnm + 10*XMne\\\n",
    "     #inventory fee for ohio \n",
    "     +5*(20000+XAho - XAow - XAom) + 5*((20000+XAho - XAow - XAom) +XMho - XMow -XMom)\\\n",
    "      #inventory fee for NJ\n",
    "     +5*(10000+XAhn - XAne - XAnm) + 5*((10000+XAhn - XAne - XAnm) +XMhn - XMne -XMnm)\\\n",
    "      #inventory fee for west\n",
    "     +10*(2000+XAow - 20000) + 10*((2000+XAow - 20000)+XMow-20000)\\\n",
    "      #inventory fee for east\n",
    "     +10*(2000+XAne - 25000)+ 10*((2000+XAne - 25000)+XMne-30000)\\\n",
    "      #inventory fee for mid\n",
    "     + 10 *(1000+XAom + XAnm - 15000) + 10*((1000+XAom + XAnm - 15000)+XMom+XMnm-25000)\\\n",
    "      #fixed cost\n",
    "     + 5000*(XBAho+XBMho) + 4000*(XBAhn+XBMhn) + 4000*(XBAow+XBMow) + 3000*(XBAom+XBMom) +5000*(XBAnm+XBMnm)+ 3000*(XBAne+XBMne))\n",
    "\n",
    "\n",
    "#maximum capacity\n",
    "p += (XAho+XAhn) <= 50000\n",
    "p += (XMho+XMhn) <= 50000\n",
    "\n",
    "#fixed cost restriction\n",
    "p += XAho <= 50000*XBAho\n",
    "p += XAhn <= 50000*XBAhn\n",
    "p += XAow <= 50000*XBAow\n",
    "p += XAom <= 50000*XBAom\n",
    "p += XAnm <= 50000*XBAnm\n",
    "p += XAne <= 50000*XBAne\n",
    "p += XMho <= 50000*XBMho\n",
    "p += XMhn <= 50000*XBMhn\n",
    "p += XMow <= 50000*XBMow\n",
    "p += XMom <= 50000*XBMom\n",
    "p += XMnm <= 50000*XBMnm\n",
    "p += XMne <= 50000*XBMne\n",
    "\n",
    "#\n",
    "p += XAow+XAom <= 20000+XAho\n",
    "p += XMow+XMom <= 20000+XMho\n",
    "\n",
    "\n",
    "# inventory non-negative after satisfying demands\n",
    "p += (20000+XAho - XAow - XAom) >= 0\n",
    "p += ((20000+XAho - XAow - XAom) +XMho - XMow -XMom) >= 0\n",
    "p += (10000+XAhn - XAne - XAnm) >= 0\n",
    "p += ((10000+XAhn - XAne - XAnm) +XMhn - XMne -XMnm) >= 0\n",
    "\n",
    "p += (2000+XAow - 20000) >= 0\n",
    "p += (2000+XAne - 25000) >= 0\n",
    "p += (1000+XAom + XAnm - 15000) >= 0\n",
    "\n",
    "p += ((2000+XAow - 20000)+XMow-20000) >= 0\n",
    "p +=  ((2000+XAne - 25000)+XMne-30000) >= 0\n",
    "p += ((1000+XAom + XAnm - 15000)+XMom+XMnm-25000) >= 0"
   ]
  },
  {
   "cell_type": "code",
   "execution_count": 223,
   "metadata": {},
   "outputs": [
    {
     "name": "stdout",
     "output_type": "stream",
     "text": [
      "Status: Optimal\n"
     ]
    }
   ],
   "source": [
    "p.writeLP(\"p.lp\") #optional\n",
    "p.solve()\n",
    "print(\"Status:\",LpStatus[p.status])"
   ]
  },
  {
   "cell_type": "code",
   "execution_count": 224,
   "metadata": {
    "scrolled": false
   },
   "outputs": [
    {
     "name": "stdout",
     "output_type": "stream",
     "text": [
      "XAhn = 50000.0 \tReduced Cost = 0.0\n",
      "XAho = 0.0 \tReduced Cost = 0.0\n",
      "XAne = 23000.0 \tReduced Cost = 0.0\n",
      "XAnm = 14000.0 \tReduced Cost = 0.0\n",
      "XAom = 0.0 \tReduced Cost = 0.0\n",
      "XAow = 18000.0 \tReduced Cost = 0.0\n",
      "XBAhn = 1.0 \tReduced Cost = 4000.0\n",
      "XBAho = 0.0 \tReduced Cost = 5000.0\n",
      "XBAne = 1.0 \tReduced Cost = 3000.0\n",
      "XBAnm = 1.0 \tReduced Cost = 5000.0\n",
      "XBAom = 0.0 \tReduced Cost = 3000.0\n",
      "XBAow = 1.0 \tReduced Cost = 4000.0\n",
      "XBMhn = 1.0 \tReduced Cost = 4000.0\n",
      "XBMho = 1.0 \tReduced Cost = 5000.0\n",
      "XBMom = 1.0 \tReduced Cost = 3000.0\n",
      "XBMow = 1.0 \tReduced Cost = 4000.0\n",
      "XBne = 1.0 \tReduced Cost = 3000.0\n",
      "XBnm = 0.0 \tReduced Cost = 5000.0\n",
      "XMhn = 7000.0 \tReduced Cost = 0.0\n",
      "XMho = 43000.0 \tReduced Cost = 0.0\n",
      "XMne = 30000.0 \tReduced Cost = 0.0\n",
      "XMnm = 0.0 \tReduced Cost = 0.0\n",
      "XMom = 25000.0 \tReduced Cost = 0.0\n",
      "XMow = 20000.0 \tReduced Cost = 0.0\n",
      "Total revenue= 2460000.0\n"
     ]
    }
   ],
   "source": [
    "for v in p.variables():\n",
    "    print(v.name, \"=\", v.varValue,\"\\tReduced Cost =\", v.dj)\n",
    "    \n",
    "print(\"Total revenue=\", value(p.objective))"
   ]
  },
  {
   "cell_type": "code",
   "execution_count": null,
   "metadata": {},
   "outputs": [],
   "source": []
  },
  {
   "cell_type": "code",
   "execution_count": null,
   "metadata": {},
   "outputs": [],
   "source": []
  },
  {
   "cell_type": "code",
   "execution_count": null,
   "metadata": {},
   "outputs": [],
   "source": []
  },
  {
   "cell_type": "code",
   "execution_count": null,
   "metadata": {},
   "outputs": [],
   "source": []
  },
  {
   "cell_type": "code",
   "execution_count": null,
   "metadata": {},
   "outputs": [],
   "source": []
  },
  {
   "cell_type": "code",
   "execution_count": null,
   "metadata": {},
   "outputs": [],
   "source": []
  },
  {
   "cell_type": "code",
   "execution_count": null,
   "metadata": {},
   "outputs": [],
   "source": []
  },
  {
   "cell_type": "code",
   "execution_count": null,
   "metadata": {},
   "outputs": [],
   "source": []
  },
  {
   "cell_type": "code",
   "execution_count": null,
   "metadata": {},
   "outputs": [],
   "source": []
  },
  {
   "cell_type": "code",
   "execution_count": null,
   "metadata": {},
   "outputs": [],
   "source": []
  },
  {
   "cell_type": "code",
   "execution_count": null,
   "metadata": {},
   "outputs": [],
   "source": []
  },
  {
   "cell_type": "code",
   "execution_count": null,
   "metadata": {},
   "outputs": [],
   "source": []
  }
 ],
 "metadata": {
  "kernelspec": {
   "display_name": "Python 3",
   "language": "python",
   "name": "python3"
  },
  "language_info": {
   "codemirror_mode": {
    "name": "ipython",
    "version": 3
   },
   "file_extension": ".py",
   "mimetype": "text/x-python",
   "name": "python",
   "nbconvert_exporter": "python",
   "pygments_lexer": "ipython3",
   "version": "3.6.5"
  }
 },
 "nbformat": 4,
 "nbformat_minor": 2
}
