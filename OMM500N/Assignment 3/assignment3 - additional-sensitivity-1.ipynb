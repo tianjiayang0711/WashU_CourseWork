{
 "cells": [
  {
   "cell_type": "markdown",
   "metadata": {},
   "source": [
    "# Assignment 3 (Concise, without reading data from external source)\n",
    "\n",
    "\n",
    "$$ \\sum_{i=A,...G,j=1,..,4} (prod\\_cost_{i,j}+trans\\_cost_{i,j})x_{i,j}\\\\\n",
    "s.t. \\\\\n",
    "Demand: \\sum_{i=A,...,G}x_{ij} \\ge Demand_i,  j=1,2,3,4\\\\\n",
    "Capacity: \\sum_{j=1,...,4}proc\\_time_{i,j}x_{i,j}\\le i=A,...,G \\\\\n",
    "A1: x_{A,1}=0 \\\\\n",
    "D1: x_{D,1}=0 \\\\\n",
    "$$"
   ]
  },
  {
   "cell_type": "markdown",
   "metadata": {},
   "source": [
    "## Import PuLP modeler functions"
   ]
  },
  {
   "cell_type": "code",
   "execution_count": 8,
   "metadata": {},
   "outputs": [],
   "source": [
    "from pulp import *\n",
    "#import pandas as pd\n",
    "#import numpy as np"
   ]
  },
  {
   "cell_type": "markdown",
   "metadata": {},
   "source": [
    "## Original Problem"
   ]
  },
  {
   "cell_type": "code",
   "execution_count": 9,
   "metadata": {},
   "outputs": [],
   "source": [
    "probA=LpProblem(\"Problem A\",LpMinimize)\n",
    "\n",
    "factory=['A','B','C','D','E','F','G']\n",
    "\n",
    "yarn = ['1','2','3','4']\n",
    "\n",
    "# Creates a list of production cost\n",
    "prod_cost =[ [0,13.00, 10.65, 9.60],\\\n",
    "            [ 17.40,14.10,11.20,9.45],\\\n",
    "            [ 17.40,14.22,11.00,9.50],\\\n",
    "            [0,14.30,11.25,9.60],\\\n",
    "            [ 17.50, 13.80,11.40,9.60],\\\n",
    "            [ 18.25, 13.90,11.40, 8.90],\\\n",
    "            [ 19.75,13.90,10.75,9.40 ]]\n",
    "\n",
    "prod_cost= makeDict([factory,yarn],prod_cost)\n",
    "\n",
    "# Creates a list of transportation cost\n",
    "trans_cost = [\n",
    "    [ 0.30,0.30,0.45, 0.45],\\\n",
    "    [ 0.40,0.40,0.60,0.60],\\\n",
    "    [ 0.80,0.80, 1.20,1.20],\\\n",
    "    [ 0.70,0.70,1.05,1.05],\\\n",
    "    [ 0.70, 0.70, 1.05, 1.05],\\\n",
    "    [ 0,0,0,0],\\\n",
    "    [ 0.50, 0.50, 0.75, 0.75]]\n",
    "\n",
    "trans_cost= makeDict([factory,yarn],trans_cost)\n",
    "\n",
    "proc_time=[\n",
    "    [0, 0.400,0.375,0.250],\\\n",
    "    [0.700,0.500,0.350,0.250],\\\n",
    "    [0.675,0.450,0.400,0.250],\\\n",
    "    [0,0.450,0.350,0.200],\\\n",
    "    [0.650,0.450,0.400,0.250],\\\n",
    "    [0.625,0.500,0.425,0.425],\\\n",
    "    [0.700,0.450,0.350,0.400],\\\n",
    "]\n",
    "proc_time= makeDict([factory,yarn],proc_time)\n",
    "capacity = {\n",
    "    \"A\":2500,\n",
    "\"B\":3000,\n",
    "\"C\":2500,\n",
    "\"D\":2600,\n",
    "\"E\":2500,\n",
    "\"F\":38000,\n",
    "\"G\":2500}\n",
    "demand={\n",
    "    \"1\":25000,\n",
    "    \"2\":26000,\n",
    "    \"3\":28000,\n",
    "    \"4\":28000\n",
    "}\n",
    "\n",
    "production_vars = LpVariable.dicts(\"x\", (factory,yarn),lowBound=0, cat='Continuous')"
   ]
  },
  {
   "cell_type": "code",
   "execution_count": 10,
   "metadata": {},
   "outputs": [],
   "source": [
    "#objective function\n",
    "probA+=lpSum([production_vars[i][j]*(prod_cost[i][j]+trans_cost[i][j]) for i in factory for j in yarn]),\"total cost\"\n",
    "# demand constraint\n",
    "for j in demand:\n",
    "    probA += lpSum([production_vars[i][j] for i in factory ]) >= demand[j],\"demand_%s\"%j\n",
    "\n",
    "# capacity constraint    \n",
    "for i in factory:\n",
    "    probA += lpSum([proc_time[i][j]*production_vars[i][j] for j in yarn]) <= capacity[i],\"capacity_%s\"%i\n",
    "\n",
    "# x_1A and x_1D constraint\n",
    "probA += production_vars[\"A\"][\"1\"]==0,\"xA1=0\"\n",
    "probA += production_vars[\"D\"][\"1\"]==0,\"xD1=0\""
   ]
  },
  {
   "cell_type": "code",
   "execution_count": 11,
   "metadata": {},
   "outputs": [
    {
     "name": "stdout",
     "output_type": "stream",
     "text": [
      "Status: Optimal\n",
      "x_A_1 = 0.0 \tReduced Cost = 0.0\n",
      "x_A_2 = 6250.0 \tReduced Cost = 0.0\n",
      "x_A_3 = 0.0 \tReduced Cost = 0.35514706\n",
      "x_A_4 = 0.0 \tReduced Cost = 1.2867647\n",
      "x_B_1 = 4285.7143 \tReduced Cost = 0.0\n",
      "x_B_2 = 0.0 \tReduced Cost = 0.80798319\n",
      "x_B_3 = 0.0 \tReduced Cost = 0.38676471\n",
      "x_B_4 = 0.0 \tReduced Cost = 0.88340336\n",
      "x_C_1 = 3703.7037 \tReduced Cost = 0.0\n",
      "x_C_2 = 0.0 \tReduced Cost = 0.97686275\n",
      "x_C_3 = 0.0 \tReduced Cost = 0.71394336\n",
      "x_C_4 = 0.0 \tReduced Cost = 1.4087146\n",
      "x_D_1 = 0.0 \tReduced Cost = 0.0\n",
      "x_D_2 = 0.0 \tReduced Cost = 0.041176471\n",
      "x_D_3 = 2040.1255 \tReduced Cost = 0.0\n",
      "x_D_4 = 0.0 \tReduced Cost = 0.85\n",
      "x_E_1 = 3846.1538 \tReduced Cost = -2.220446e-16\n",
      "x_E_2 = 0.0 \tReduced Cost = 0.49208145\n",
      "x_E_3 = 0.0 \tReduced Cost = 0.99524887\n",
      "x_E_4 = 0.0 \tReduced Cost = 1.3782805\n",
      "x_F_1 = 13164.428 \tReduced Cost = 0.0\n",
      "x_F_2 = 19750.0 \tReduced Cost = 0.0\n",
      "x_F_3 = 18817.017 \tReduced Cost = 7.7715612e-16\n",
      "x_F_4 = 28000.0 \tReduced Cost = -9.9920072e-16\n",
      "x_G_1 = 0.0 \tReduced Cost = 2.2764706\n",
      "x_G_2 = 0.0 \tReduced Cost = 0.4697479\n",
      "x_G_3 = 7142.8571 \tReduced Cost = -1.110223e-16\n",
      "x_G_4 = 0.0 \tReduced Cost = 1.2642857\n",
      "Total cost = 1382544.32614\n"
     ]
    }
   ],
   "source": [
    "probA.writeLP(\"Filatoi2A.lp\")\n",
    "probA.solve()\n",
    "print(\"Status:\",LpStatus[probA.status])\n",
    "#print optimization result\n",
    "for v in probA.variables():\n",
    "    print(v.name, \"=\", v.varValue,\"\\tReduced Cost =\", v.dj)\n",
    "print(\"Total cost =\", value(probA.objective))\n",
    "original_cost=value(probA.objective)"
   ]
  },
  {
   "cell_type": "markdown",
   "metadata": {},
   "source": [
    "## Additional Sensitivity Question 1\n",
    "- A client has just called asking for an additional 5,000 kg of the **medium size** yarn. The original demand still has to be met but Filatoi is considering whether it should accept the new order and how much it should charge for it.\n",
    "- Give your answer assuming Filatoi **cannot** adjust down the outsourcing orders it has already committed to with the other suppliers. \n",
    "- **change demand[3] from 28000 to 28000+5000=33000**\n"
   ]
  },
  {
   "cell_type": "code",
   "execution_count": 12,
   "metadata": {},
   "outputs": [],
   "source": [
    "probS1=LpProblem(\"Problem Sensitivity 1\",LpMinimize)\n",
    "\n",
    "factory=['A','B','C','D','E','F','G']\n",
    "\n",
    "yarn = ['1','2','3','4']\n",
    "\n",
    "# Creates a list of production cost\n",
    "prod_cost =[ [0,13.00, 10.65, 9.60],\\\n",
    "            [ 17.40,14.10,11.20,9.45],\\\n",
    "            [ 17.40,14.22,11.00,9.50],\\\n",
    "            [0,14.30,11.25,9.60],\\\n",
    "            [ 17.50, 13.80,11.40,9.60],\\\n",
    "            [ 18.25, 13.90,11.40, 8.90],\\\n",
    "            [ 19.75,13.90,10.75,9.40 ]]\n",
    "\n",
    "prod_cost= makeDict([factory,yarn],prod_cost)\n",
    "\n",
    "# Creates a list of transportation cost\n",
    "trans_cost = [\n",
    "    [ 0.30,0.30,0.45, 0.45],\\\n",
    "    [ 0.40,0.40,0.60,0.60],\\\n",
    "    [ 0.80,0.80, 1.20,1.20],\\\n",
    "    [ 0.70,0.70,1.05,1.05],\\\n",
    "    [ 0.70, 0.70, 1.05, 1.05],\\\n",
    "    [ 0,0,0,0],\\\n",
    "    [ 0.50, 0.50, 0.75, 0.75]]\n",
    "\n",
    "trans_cost= makeDict([factory,yarn],trans_cost)\n",
    "\n",
    "proc_time=[\n",
    "    [0, 0.400,0.375,0.250],\\\n",
    "    [0.700,0.500,0.350,0.250],\\\n",
    "    [0.675,0.450,0.400,0.250],\\\n",
    "    [0,0.450,0.350,0.200],\\\n",
    "    [0.650,0.450,0.400,0.250],\\\n",
    "    [0.625,0.500,0.425,0.425],\\\n",
    "    [0.700,0.450,0.350,0.400],\\\n",
    "]\n",
    "proc_time= makeDict([factory,yarn],proc_time)\n",
    "capacity = {\n",
    "    \"A\":2500,\n",
    "\"B\":3000,\n",
    "\"C\":2500,\n",
    "\"D\":2600,\n",
    "\"E\":2500,\n",
    "\"F\":38000,\n",
    "\"G\":2500}\n",
    "addtionalD3=5000\n",
    "demand={\n",
    "    \"1\":25000,\n",
    "    \"2\":26000,\n",
    "    \"3\":28000+addtionalD3,\n",
    "    \"4\":28000\n",
    "}\n",
    "\n",
    "production_vars_s1 = LpVariable.dicts(\"x\", (factory,yarn),lowBound=0, cat='Continuous')"
   ]
  },
  {
   "cell_type": "markdown",
   "metadata": {},
   "source": [
    "### Additioal Sensitivity Question 1: Add objective function and constraints\n",
    "- Use lpSum() amd += operator to construct objective function and constraintsumn based modelling: relates to the variable’s existence in the objective function and constraints"
   ]
  },
  {
   "cell_type": "code",
   "execution_count": 13,
   "metadata": {},
   "outputs": [],
   "source": [
    "#objective function\n",
    "probS1+=lpSum([production_vars_s1[i][j]*(prod_cost[i][j]+trans_cost[i][j]) for i in factory for j in yarn]),\"total cost\"\n",
    "# demand constraint\n",
    "for j in demand:\n",
    "    probS1 += lpSum([production_vars_s1[i][j] for i in factory ]) >= demand[j],\"demand_%s\"%j\n",
    "\n",
    "# capacity constraint    \n",
    "for i in factory:\n",
    "    probS1 += lpSum([proc_time[i][j]*production_vars_s1[i][j] for j in yarn]) <= capacity[i],\"capacity_%s\"%i\n",
    "\n",
    "# x_1S and x_1D constraint\n",
    "probS1 += production_vars_s1[\"A\"][\"1\"]==0,\"xA1=0\"\n",
    "probS1 += production_vars_s1[\"D\"][\"1\"]==0,\"xD1=0\""
   ]
  },
  {
   "cell_type": "markdown",
   "metadata": {},
   "source": [
    "### Additioal Sensitivity Question 1: Run solver\n",
    "\n",
    "- use name.solve(solver=None), where name is the LP problem variable defined by LpProblem\n",
    "- Solve the given Lp problem. \n",
    "- This function changes the problem to make it suitable for solving then calls the solver.actualSolve method to find the solution. \n",
    "- solver – Optional: the specific solver to be used, defaults to the default solver."
   ]
  },
  {
   "cell_type": "code",
   "execution_count": 14,
   "metadata": {},
   "outputs": [
    {
     "name": "stdout",
     "output_type": "stream",
     "text": [
      "Status: Optimal\n"
     ]
    }
   ],
   "source": [
    "probS1.writeLP(\"Filatoi_s1.lp\")\n",
    "probS1.solve()\n",
    "print(\"Status:\",LpStatus[probS1.status])"
   ]
  },
  {
   "cell_type": "markdown",
   "metadata": {},
   "source": [
    "### Additioal Sensitivity Question 1: Print the optiomal solution"
   ]
  },
  {
   "cell_type": "code",
   "execution_count": 15,
   "metadata": {},
   "outputs": [
    {
     "name": "stdout",
     "output_type": "stream",
     "text": [
      "x_A_1 = 0.0 \tReduced Cost = 0.0\n",
      "x_A_2 = 6250.0 \tReduced Cost = 0.0\n",
      "x_A_3 = 0.0 \tReduced Cost = 0.35514706\n",
      "x_A_4 = 0.0 \tReduced Cost = 1.2867647\n",
      "x_B_1 = 4285.7143 \tReduced Cost = 0.0\n",
      "x_B_2 = 0.0 \tReduced Cost = 0.80798319\n",
      "x_B_3 = 0.0 \tReduced Cost = 0.38676471\n",
      "x_B_4 = 0.0 \tReduced Cost = 0.88340336\n",
      "x_C_1 = 3703.7037 \tReduced Cost = 0.0\n",
      "x_C_2 = 0.0 \tReduced Cost = 0.97686275\n",
      "x_C_3 = 0.0 \tReduced Cost = 0.71394336\n",
      "x_C_4 = 0.0 \tReduced Cost = 1.4087146\n",
      "x_D_1 = 0.0 \tReduced Cost = 0.0\n",
      "x_D_2 = 0.0 \tReduced Cost = 0.041176471\n",
      "x_D_3 = 7040.1255 \tReduced Cost = 0.0\n",
      "x_D_4 = 0.0 \tReduced Cost = 0.85\n",
      "x_E_1 = 3846.1538 \tReduced Cost = -2.220446e-16\n",
      "x_E_2 = 0.0 \tReduced Cost = 0.49208145\n",
      "x_E_3 = 0.0 \tReduced Cost = 0.99524887\n",
      "x_E_4 = 0.0 \tReduced Cost = 1.3782805\n",
      "x_F_1 = 13164.428 \tReduced Cost = 0.0\n",
      "x_F_2 = 19750.0 \tReduced Cost = 0.0\n",
      "x_F_3 = 18817.017 \tReduced Cost = 7.7715612e-16\n",
      "x_F_4 = 28000.0 \tReduced Cost = -9.9920072e-16\n",
      "x_G_1 = 0.0 \tReduced Cost = 2.2764706\n",
      "x_G_2 = 0.0 \tReduced Cost = 0.4697479\n",
      "x_G_3 = 7142.8571 \tReduced Cost = -1.110223e-16\n",
      "x_G_4 = 0.0 \tReduced Cost = 1.2642857\n",
      "Total cost = 1444044.32614\n"
     ]
    }
   ],
   "source": [
    "for v in probS1.variables():\n",
    "    print(v.name, \"=\", v.varValue,\"\\tReduced Cost =\", v.dj)\n",
    "print(\"Total cost =\", value(probS1.objective))\n",
    "new_cost=value(probS1.objective)"
   ]
  },
  {
   "cell_type": "code",
   "execution_count": 16,
   "metadata": {},
   "outputs": [
    {
     "name": "stdout",
     "output_type": "stream",
     "text": [
      "x_A_1 = 0.0\n",
      "x_A_2 = 0.0\n",
      "x_A_3 = 0.0\n",
      "x_A_4 = 0.0\n",
      "x_B_1 = 0.0\n",
      "x_B_2 = 0.0\n",
      "x_B_3 = 0.0\n",
      "x_B_4 = 0.0\n",
      "x_C_1 = 0.0\n",
      "x_C_2 = 0.0\n",
      "x_C_3 = 0.0\n",
      "x_C_4 = 0.0\n",
      "x_D_1 = 0.0\n",
      "x_D_2 = 0.0\n",
      "x_D_3 = 5000.0\n",
      "x_D_4 = 0.0\n",
      "x_E_1 = 0.0\n",
      "x_E_2 = 0.0\n",
      "x_E_3 = 0.0\n",
      "x_E_4 = 0.0\n",
      "x_F_1 = 0.0\n",
      "x_F_2 = 0.0\n",
      "x_F_3 = 0.0\n",
      "x_F_4 = 0.0\n",
      "x_G_1 = 0.0\n",
      "x_G_2 = 0.0\n",
      "x_G_3 = 0.0\n",
      "x_G_4 = 0.0\n",
      "(new cost - original cost)/5000 = 12.3\n"
     ]
    }
   ],
   "source": [
    "for u,v in zip(probA.variables(),probS1.variables()):\n",
    "    print(v.name,\"=\",v.varValue-u.varValue)\n",
    "    \n",
    "print(\"(new cost - original cost)/5000 =\",(new_cost-original_cost)/5000)"
   ]
  },
  {
   "cell_type": "code",
   "execution_count": 17,
   "metadata": {},
   "outputs": [
    {
     "name": "stdout",
     "output_type": "stream",
     "text": [
      "\n",
      "Sensitivity Analysis\n",
      "Constraint\t\tShadow Price\tSlack\n",
      "demand_1 : x_A_1 + x_B_1 + x_C_1 + x_D_1 + x_E_1 + x_F_1 + x_G_1 >= 25000 \t 19.573529 \t\t -0.0\n",
      "demand_2 : x_A_2 + x_B_2 + x_C_2 + x_D_2 + x_E_2 + x_F_2 + x_G_2 >= 26000 \t 14.958824 \t\t -0.0\n",
      "demand_3 : x_A_3 + x_B_3 + x_C_3 + x_D_3 + x_E_3 + x_F_3 + x_G_3 >= 33000 \t 12.3 \t\t -0.0\n",
      "demand_4 : x_A_4 + x_B_4 + x_C_4 + x_D_4 + x_E_4 + x_F_4 + x_G_4 >= 28000 \t 9.8 \t\t -0.0\n",
      "capacity_A : 0.4*x_A_2 + 0.375*x_A_3 + 0.25*x_A_4 <= 2500.0 \t -4.1470588 \t\t -0.0\n",
      "capacity_B : 0.7*x_B_1 + 0.5*x_B_2 + 0.35*x_B_3 + 0.25*x_B_4 <= 3000.0 \t -2.5336134 \t\t -0.0\n",
      "capacity_C : 0.675*x_C_1 + 0.45*x_C_2 + 0.4*x_C_3 + 0.25*x_C_4 <= 2500.0 \t -2.0348584 \t\t -0.0\n",
      "capacity_D : 0.45*x_D_2 + 0.35*x_D_3 + 0.2*x_D_4 <= 2600.0 \t 0.0 \t\t 135.95609999999988\n",
      "capacity_E : 0.65*x_E_1 + 0.45*x_E_2 + 0.4*x_E_3 + 0.25*x_E_4 <= 2500.0 \t -2.1131222 \t\t -0.0\n",
      "capacity_F : 0.625*x_F_1 + 0.5*x_F_2 + 0.425*x_F_3 + 0.425*x_F_4 <= 38000.0 \t -2.1176471 \t\t -0.0\n",
      "capacity_G : 0.7*x_G_1 + 0.45*x_G_2 + 0.35*x_G_3 + 0.4*x_G_4 <= 2500.0 \t -2.2857143 \t\t -0.0\n",
      "xA1=0 : x_A_1 = 0 \t -19.273529 \t\t -0.0\n",
      "xD1=0 : x_D_1 = 0 \t -18.873529 \t\t -0.0\n"
     ]
    }
   ],
   "source": [
    "print(\"\\nSensitivity Analysis\\nConstraint\\t\\tShadow Price\\tSlack\")\n",
    "for name, c in list(probS1.constraints.items()):\n",
    "    print(name, \":\", c, \"\\t\", c.pi, \"\\t\\t\", c.slack)"
   ]
  }
 ],
 "metadata": {
  "kernelspec": {
   "display_name": "Python 3",
   "language": "python",
   "name": "python3"
  },
  "language_info": {
   "codemirror_mode": {
    "name": "ipython",
    "version": 3
   },
   "file_extension": ".py",
   "mimetype": "text/x-python",
   "name": "python",
   "nbconvert_exporter": "python",
   "pygments_lexer": "ipython3",
   "version": "3.6.5"
  }
 },
 "nbformat": 4,
 "nbformat_minor": 2
}
