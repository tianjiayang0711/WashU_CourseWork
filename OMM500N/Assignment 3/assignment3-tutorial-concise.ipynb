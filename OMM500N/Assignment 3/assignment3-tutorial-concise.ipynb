{
 "cells": [
  {
   "cell_type": "markdown",
   "metadata": {},
   "source": [
    "# Assignment 3 (Concise, without reading data from external source)\n",
    "\n",
    "\n",
    "\n",
    "$$ \\sum_{i=A,...G,j=1,..,4} (prod\\_cost_{i,j}+trans\\_cost_{i,j})x_{i,j}\\\\\n",
    "s.t. \\\\\n",
    "Demand: \\sum_{i=A,...,G}x_{ij} \\ge Demand_i,  j=1,2,3,4\\\\\n",
    "Capacity: \\sum_{j=1,...,4}proc\\_time_{i,j}x_{i,j}\\le i=A,...,G \\\\\n",
    "A1: x_{A,1}=0 \\\\\n",
    "D1: x_{D,1}=0 \\\\\n",
    "$$"
   ]
  },
  {
   "cell_type": "markdown",
   "metadata": {},
   "source": [
    "## Import PuLP modeler functions"
   ]
  },
  {
   "cell_type": "code",
   "execution_count": 1,
   "metadata": {},
   "outputs": [],
   "source": [
    "from pulp import *\n",
    "#import pandas as pd\n",
    "#import numpy as np"
   ]
  },
  {
   "cell_type": "markdown",
   "metadata": {},
   "source": [
    "## Question 1"
   ]
  },
  {
   "cell_type": "code",
   "execution_count": 139,
   "metadata": {
    "collapsed": true
   },
   "outputs": [],
   "source": [
    "probA=LpProblem(\"Problem A\",LpMinimize)\n",
    "\n",
    "factory=['A','B','C','D','E','F','G']\n",
    "\n",
    "yarn = ['1','2','3','4']\n",
    "\n",
    "# Creates a list of production cost\n",
    "prod_cost =[ [0,13.00, 10.65, 9.60],\\\n",
    "            [ 17.40,14.10,11.20,9.45],\\\n",
    "            [ 17.40,14.22,11.00,9.50],\\\n",
    "            [0,14.30,11.25,9.60],\\\n",
    "            [ 17.50, 13.80,11.40,9.60],\\\n",
    "            [ 18.25, 13.90,11.40, 8.90],\\\n",
    "            [ 19.75,13.90,10.75,9.40 ]]\n",
    "\n",
    "prod_cost= makeDict([factory,yarn],prod_cost)\n",
    "\n",
    "# Creates a list of transportation cost\n",
    "trans_cost = [\n",
    "    [ 0.30,0.30,0.45, 0.45],\\\n",
    "    [ 0.40,0.40,0.60,0.60],\\\n",
    "    [ 0.80,0.80, 1.20,1.20],\\\n",
    "    [ 0.70,0.70,1.05,1.05],\\\n",
    "    [ 0.70, 0.70, 1.05, 1.05],\\\n",
    "    [ 0,0,0,0],\\\n",
    "    [ 0.50, 0.50, 0.75, 0.75]]\n",
    "\n",
    "trans_cost= makeDict([factory,yarn],trans_cost)\n",
    "\n",
    "proc_time=[\n",
    "    [0, 0.400,0.375,0.250],\\\n",
    "    [0.700,0.500,0.350,0.250],\\\n",
    "    [0.675,0.450,0.400,0.250],\\\n",
    "    [0,0.450,0.350,0.200],\\\n",
    "    [0.650,0.450,0.400,0.250],\\\n",
    "    [0.625,0.500,0.425,0.425],\\\n",
    "    [0.700,0.450,0.350,0.400],\\\n",
    "]\n",
    "proc_time= makeDict([factory,yarn],proc_time)\n",
    "capacity = {\n",
    "    \"A\":2500,\n",
    "\"B\":3000,\n",
    "\"C\":2500,\n",
    "\"D\":2600,\n",
    "\"E\":2500,\n",
    "\"F\":38000,\n",
    "\"G\":2500}\n",
    "demand={\n",
    "    \"1\":25000,\n",
    "    \"2\":26000,\n",
    "    \"3\":28000,\n",
    "    \"4\":28000\n",
    "}\n",
    "\n",
    "production_vars = LpVariable.dicts(\"x\", (factory,yarn),lowBound=0, cat='Continuous')"
   ]
  },
  {
   "cell_type": "markdown",
   "metadata": {},
   "source": [
    "### Question 1: Add objective function and constraints\n",
    "- Use lpSum() amd += operator to construct objective function and constraintsumn based modelling: relates to the variable’s existence in the objective function and constraints"
   ]
  },
  {
   "cell_type": "code",
   "execution_count": 140,
   "metadata": {
    "collapsed": true
   },
   "outputs": [],
   "source": [
    "#objective function\n",
    "probA+=lpSum([production_vars[i][j]*(prod_cost[i][j]+trans_cost[i][j]) for i in factory for j in yarn]),\"total cost\"\n",
    "# demand constraint\n",
    "for j in yarn:\n",
    "    probA += lpSum([production_vars[i][j] for i in factory ]) >= demand[j],\"demand_%s\"%j\n",
    "\n",
    "# capacity constraint    \n",
    "for i in factory:\n",
    "    probA += lpSum([proc_time[i][j]*production_vars[i][j] for j in yarn]) <= capacity[i],\"capacity_%s\"%i\n",
    "\n",
    "# x_1A and x_1D constraint\n",
    "probA += production_vars[\"A\"][\"1\"]==0,\"xA1=0\"\n",
    "probA += production_vars[\"D\"][\"1\"]==0,\"xD1=0\""
   ]
  },
  {
   "cell_type": "markdown",
   "metadata": {},
   "source": [
    "### Question 1: Run solver\n",
    "\n",
    "- use name.solve(solver=None), where name is the LP problem variable defined by LpProblem\n",
    "- Solve the given Lp problem. \n",
    "- This function changes the problem to make it suitable for solving then calls the solver.actualSolve method to find the solution. \n",
    "- solver – Optional: the specific solver to be used, defaults to the default solver."
   ]
  },
  {
   "cell_type": "code",
   "execution_count": 141,
   "metadata": {},
   "outputs": [
    {
     "name": "stdout",
     "output_type": "stream",
     "text": [
      "Status: Optimal\n"
     ]
    }
   ],
   "source": [
    "probA.writeLP(\"FilatoiA.lp\")\n",
    "probA.solve()\n",
    "print(\"Status:\",LpStatus[probA.status])"
   ]
  },
  {
   "cell_type": "markdown",
   "metadata": {},
   "source": [
    "### Question 1: Print the optiomal solution"
   ]
  },
  {
   "cell_type": "code",
   "execution_count": 142,
   "metadata": {},
   "outputs": [
    {
     "name": "stdout",
     "output_type": "stream",
     "text": [
      "x_A_1 = 0.0 \tReduced Cost = 0.0\n",
      "x_A_2 = 6250.0 \tReduced Cost = 0.0\n",
      "x_A_3 = 0.0 \tReduced Cost = 0.35514706\n",
      "x_A_4 = 0.0 \tReduced Cost = 1.2867647\n",
      "x_B_1 = 4285.7143 \tReduced Cost = 0.0\n",
      "x_B_2 = 0.0 \tReduced Cost = 0.80798319\n",
      "x_B_3 = 0.0 \tReduced Cost = 0.38676471\n",
      "x_B_4 = 0.0 \tReduced Cost = 0.88340336\n",
      "x_C_1 = 3703.7037 \tReduced Cost = 0.0\n",
      "x_C_2 = 0.0 \tReduced Cost = 0.97686275\n",
      "x_C_3 = 0.0 \tReduced Cost = 0.71394336\n",
      "x_C_4 = 0.0 \tReduced Cost = 1.4087146\n",
      "x_D_1 = 0.0 \tReduced Cost = 0.0\n",
      "x_D_2 = 0.0 \tReduced Cost = 0.041176471\n",
      "x_D_3 = 2040.1255 \tReduced Cost = 0.0\n",
      "x_D_4 = 0.0 \tReduced Cost = 0.85\n",
      "x_E_1 = 3846.1538 \tReduced Cost = -2.220446e-16\n",
      "x_E_2 = 0.0 \tReduced Cost = 0.49208145\n",
      "x_E_3 = 0.0 \tReduced Cost = 0.99524887\n",
      "x_E_4 = 0.0 \tReduced Cost = 1.3782805\n",
      "x_F_1 = 13164.428 \tReduced Cost = 0.0\n",
      "x_F_2 = 19750.0 \tReduced Cost = 0.0\n",
      "x_F_3 = 18817.017 \tReduced Cost = 7.7715612e-16\n",
      "x_F_4 = 28000.0 \tReduced Cost = -9.9920072e-16\n",
      "x_G_1 = 0.0 \tReduced Cost = 2.2764706\n",
      "x_G_2 = 0.0 \tReduced Cost = 0.4697479\n",
      "x_G_3 = 7142.8571 \tReduced Cost = -1.110223e-16\n",
      "x_G_4 = 0.0 \tReduced Cost = 1.2642857\n",
      "Total cost = 1382544.32614\n"
     ]
    }
   ],
   "source": [
    "for v in probA.variables():\n",
    "    print(v.name, \"=\", v.varValue,\"\\tReduced Cost =\", v.dj)\n",
    "print(\"Total cost =\", value(probA.objective))\n",
    "original_cost=value(probA.objective)"
   ]
  },
  {
   "cell_type": "code",
   "execution_count": 143,
   "metadata": {},
   "outputs": [
    {
     "name": "stdout",
     "output_type": "stream",
     "text": [
      "\n",
      "Sensitivity Analysis\n",
      "Constraint\t\tShadow Price\tSlack\n",
      "demand_1 : x_A_1 + x_B_1 + x_C_1 + x_D_1 + x_E_1 + x_F_1 + x_G_1 >= 25000 \t 19.573529 \t\t -0.0\n",
      "demand_2 : x_A_2 + x_B_2 + x_C_2 + x_D_2 + x_E_2 + x_F_2 + x_G_2 >= 26000 \t 14.958824 \t\t -0.0\n",
      "demand_3 : x_A_3 + x_B_3 + x_C_3 + x_D_3 + x_E_3 + x_F_3 + x_G_3 >= 28000 \t 12.3 \t\t -0.0\n",
      "demand_4 : x_A_4 + x_B_4 + x_C_4 + x_D_4 + x_E_4 + x_F_4 + x_G_4 >= 28000 \t 9.8 \t\t -0.0\n",
      "capacity_A : 0.4*x_A_2 + 0.375*x_A_3 + 0.25*x_A_4 <= 2500.0 \t -4.1470588 \t\t -0.0\n",
      "capacity_B : 0.7*x_B_1 + 0.5*x_B_2 + 0.35*x_B_3 + 0.25*x_B_4 <= 3000.0 \t -2.5336134 \t\t -0.0\n",
      "capacity_C : 0.675*x_C_1 + 0.45*x_C_2 + 0.4*x_C_3 + 0.25*x_C_4 <= 2500.0 \t -2.0348584 \t\t -0.0\n",
      "capacity_D : 0.45*x_D_2 + 0.35*x_D_3 + 0.2*x_D_4 <= 2600.0 \t 0.0 \t\t 1885.9560900000001\n",
      "capacity_E : 0.65*x_E_1 + 0.45*x_E_2 + 0.4*x_E_3 + 0.25*x_E_4 <= 2500.0 \t -2.1131222 \t\t -0.0\n",
      "capacity_F : 0.625*x_F_1 + 0.5*x_F_2 + 0.425*x_F_3 + 0.425*x_F_4 <= 38000.0 \t -2.1176471 \t\t -0.0\n",
      "capacity_G : 0.7*x_G_1 + 0.45*x_G_2 + 0.35*x_G_3 + 0.4*x_G_4 <= 2500.0 \t -2.2857143 \t\t -0.0\n",
      "xA1=0 : x_A_1 = 0 \t -19.273529 \t\t -0.0\n",
      "xD1=0 : x_D_1 = 0 \t -18.873529 \t\t -0.0\n"
     ]
    }
   ],
   "source": [
    "print(\"\\nSensitivity Analysis\\nConstraint\\t\\tShadow Price\\tSlack\")\n",
    "for name, c in list(probA.constraints.items()):\n",
    "    print(name, \":\", c, \"\\t\", c.pi, \"\\t\\t\", c.slack)"
   ]
  },
  {
   "cell_type": "markdown",
   "metadata": {},
   "source": [
    "## Question 2"
   ]
  },
  {
   "cell_type": "code",
   "execution_count": 122,
   "metadata": {
    "collapsed": true
   },
   "outputs": [],
   "source": [
    "# change capacity for Filatoi from 38000 to 38000+600=38600\n",
    "probB=LpProblem(\"Problem B\",LpMinimize)\n",
    "capacity[\"F\"]=38600"
   ]
  },
  {
   "cell_type": "code",
   "execution_count": 79,
   "metadata": {},
   "outputs": [
    {
     "data": {
      "text/plain": [
       "{'A': 2500, 'B': 3000, 'C': 2500, 'D': 2600, 'E': 2500, 'F': 38600, 'G': 2500}"
      ]
     },
     "execution_count": 79,
     "metadata": {},
     "output_type": "execute_result"
    }
   ],
   "source": [
    "capacity"
   ]
  },
  {
   "cell_type": "code",
   "execution_count": 80,
   "metadata": {},
   "outputs": [
    {
     "name": "stdout",
     "output_type": "stream",
     "text": [
      "Status: Optimal\n",
      "x_A_1 = 0.0 \tReduced Cost = 0.0\n",
      "x_A_2 = 6250.0 \tReduced Cost = 0.0\n",
      "x_A_3 = 0.0 \tReduced Cost = 0.35514706\n",
      "x_A_4 = 0.0 \tReduced Cost = 1.2867647\n",
      "x_B_1 = 4285.7143 \tReduced Cost = 0.0\n",
      "x_B_2 = 0.0 \tReduced Cost = 0.80798319\n",
      "x_B_3 = 0.0 \tReduced Cost = 0.38676471\n",
      "x_B_4 = 0.0 \tReduced Cost = 0.88340336\n",
      "x_C_1 = 3703.7037 \tReduced Cost = 0.0\n",
      "x_C_2 = 0.0 \tReduced Cost = 0.97686275\n",
      "x_C_3 = 0.0 \tReduced Cost = 0.71394336\n",
      "x_C_4 = 0.0 \tReduced Cost = 1.4087146\n",
      "x_D_1 = 0.0 \tReduced Cost = 0.0\n",
      "x_D_2 = 0.0 \tReduced Cost = 0.041176471\n",
      "x_D_3 = 628.36075 \tReduced Cost = 0.0\n",
      "x_D_4 = 0.0 \tReduced Cost = 0.85\n",
      "x_E_1 = 3846.1538 \tReduced Cost = -2.220446e-16\n",
      "x_E_2 = 0.0 \tReduced Cost = 0.49208145\n",
      "x_E_3 = 0.0 \tReduced Cost = 0.99524887\n",
      "x_E_4 = 0.0 \tReduced Cost = 1.3782805\n",
      "x_F_1 = 13164.428 \tReduced Cost = 0.0\n",
      "x_F_2 = 19750.0 \tReduced Cost = 0.0\n",
      "x_F_3 = 20228.782 \tReduced Cost = 7.7715612e-16\n",
      "x_F_4 = 28000.0 \tReduced Cost = -9.9920072e-16\n",
      "x_G_1 = 0.0 \tReduced Cost = 2.2764706\n",
      "x_G_2 = 0.0 \tReduced Cost = 0.4697479\n",
      "x_G_3 = 7142.8571 \tReduced Cost = -1.110223e-16\n",
      "x_G_4 = 0.0 \tReduced Cost = 1.2642857\n",
      "Total cost = 1381273.740715\n",
      "new cost-original cost = -1270.5854249999393\n"
     ]
    }
   ],
   "source": [
    "#objective function\n",
    "probB+=lpSum([production_vars[i][j]*(prod_cost[i][j]+trans_cost[i][j]) for i in factory for j in yarn]),\"total cost\"\n",
    "# demand constraint\n",
    "for j in yarn:\n",
    "    probB += lpSum([production_vars[i][j] for i in factory ]) >= demand[j],\"demand_%s\"%j\n",
    "\n",
    "# capacity constraint    \n",
    "for i in factory:\n",
    "    probB += lpSum([proc_time[i][j]*production_vars[i][j] for j in yarn]) <= capacity[i],\"capacity_%s\"%i\n",
    "\n",
    "# x_1A and x_1D constraint\n",
    "probB += production_vars[\"A\"][\"1\"]==0,\"xA1=0\"\n",
    "probB += production_vars[\"D\"][\"1\"]==0,\"xD1=0\"\n",
    "#solve LP\n",
    "probB.writeLP(\"Filatoi2b.lp\")\n",
    "probB.solve()\n",
    "print(\"Status:\",LpStatus[probA.status])\n",
    "#print optimal solution\n",
    "for v in probB.variables():\n",
    "    print(v.name, \"=\", v.varValue,\"\\tReduced Cost =\", v.dj)\n",
    "print(\"Total cost =\", value(probB.objective))\n",
    "probB_cost = value(probB.objective)\n",
    "print(\"new cost-original cost =\", probB_cost-original_cost)"
   ]
  },
  {
   "cell_type": "markdown",
   "metadata": {},
   "source": [
    "## Question 3.1 (lower Filatoi's prod_cost by 5%)"
   ]
  },
  {
   "cell_type": "code",
   "execution_count": 144,
   "metadata": {
    "collapsed": true
   },
   "outputs": [],
   "source": [
    "probC=LpProblem(\"Problem C\",LpMinimize)\n",
    "# reset capacity and prod_cost\n",
    "capacity = {\n",
    "    \"A\":2500,\n",
    "\"B\":3000,\n",
    "\"C\":2500,\n",
    "\"D\":2600,\n",
    "\"E\":2500,\n",
    "\"F\":38000,\n",
    "\"G\":2500}\n",
    "prod_cost_l =[ [0,13.00, 10.65, 9.60],\\\n",
    "            [ 17.40,14.10,11.20,9.45],\\\n",
    "            [ 17.40,14.22,11.00,9.50],\\\n",
    "            [0,14.30,11.25,9.60],\\\n",
    "            [ 17.50, 13.80,11.40,9.60],\\\n",
    "            [ 18.25, 13.90,11.40, 8.90],\\\n",
    "            [ 19.75,13.90,10.75,9.40 ]]\n",
    "\n",
    "prod_cost_l= makeDict([factory,yarn],prod_cost_l)\n",
    "#adjust prod_cost for Filatoi\n",
    "adjust_factor=0.05\n",
    "for j in yarn:\n",
    "    #print(\"original prod_cost_l[F][%s]\"%j, \"=\", prod_cost_l[\"F\"][j])\n",
    "    prod_cost_l[\"F\"][j] = prod_cost_l[\"F\"][j]*(1-adjust_factor)\n",
    "    #print(\"new prod_cost[F][%s]\"%j, \"=\", prod_cost_l[\"F\"][j])\n",
    "\n",
    "#define new decision variable\n",
    "production_vars_l = LpVariable.dicts(\"x\", (factory,yarn),lowBound=0, cat='Continuous')"
   ]
  },
  {
   "cell_type": "code",
   "execution_count": 145,
   "metadata": {},
   "outputs": [
    {
     "name": "stdout",
     "output_type": "stream",
     "text": [
      "Status: Optimal\n",
      "x_A_1 = 0.0 \tReduced Cost = 0.0\n",
      "x_A_2 = 6250.0 \tReduced Cost = 0.0\n",
      "x_A_3 = 0.0 \tReduced Cost = 0.33226103\n",
      "x_A_4 = 0.0 \tReduced Cost = 1.1465074\n",
      "x_B_1 = 4285.7143 \tReduced Cost = 0.0\n",
      "x_B_2 = 0.0 \tReduced Cost = 0.77934874\n",
      "x_B_3 = 0.0 \tReduced Cost = 0.34963235\n",
      "x_B_4 = 0.0 \tReduced Cost = 0.73188025\n",
      "x_C_1 = 3703.7037 \tReduced Cost = 0.0\n",
      "x_C_2 = 0.0 \tReduced Cost = 0.95176471\n",
      "x_C_3 = 0.0 \tReduced Cost = 0.66993464\n",
      "x_C_4 = 0.0 \tReduced Cost = 1.2562092\n",
      "x_D_1 = 0.0 \tReduced Cost = 0.0\n",
      "x_D_2 = 0.0 \tReduced Cost = 0.065588235\n",
      "x_D_3 = 2040.1255 \tReduced Cost = 0.0\n",
      "x_D_4 = 0.0 \tReduced Cost = 0.725\n",
      "x_E_1 = 3846.1538 \tReduced Cost = -2.220446e-16\n",
      "x_E_2 = 0.0 \tReduced Cost = 0.46507919\n",
      "x_E_3 = 0.0 \tReduced Cost = 0.94954751\n",
      "x_E_4 = 0.0 \tReduced Cost = 1.2247172\n",
      "x_F_1 = 13164.428 \tReduced Cost = 0.0\n",
      "x_F_2 = 19750.0 \tReduced Cost = -8.8817842e-16\n",
      "x_F_3 = 18817.017 \tReduced Cost = 1.110223e-15\n",
      "x_F_4 = 28000.0 \tReduced Cost = -6.6613381e-16\n",
      "x_G_1 = 0.0 \tReduced Cost = 2.3507353\n",
      "x_G_2 = 0.0 \tReduced Cost = 0.49415966\n",
      "x_G_3 = 7142.8571 \tReduced Cost = -1.110223e-16\n",
      "x_G_4 = 0.0 \tReduced Cost = 1.1392857\n",
      "Total cost = 1333619.8358999998\n",
      "Difference in x_A_1 = 0.0\n",
      "Difference in x_A_2 = 0.0\n",
      "Difference in x_A_3 = 0.0\n",
      "Difference in x_A_4 = 0.0\n",
      "Difference in x_B_1 = 0.0\n",
      "Difference in x_B_2 = 0.0\n",
      "Difference in x_B_3 = 0.0\n",
      "Difference in x_B_4 = 0.0\n",
      "Difference in x_C_1 = 0.0\n",
      "Difference in x_C_2 = 0.0\n",
      "Difference in x_C_3 = 0.0\n",
      "Difference in x_C_4 = 0.0\n",
      "Difference in x_D_1 = 0.0\n",
      "Difference in x_D_2 = 0.0\n",
      "Difference in x_D_3 = 0.0\n",
      "Difference in x_D_4 = 0.0\n",
      "Difference in x_E_1 = 0.0\n",
      "Difference in x_E_2 = 0.0\n",
      "Difference in x_E_3 = 0.0\n",
      "Difference in x_E_4 = 0.0\n",
      "Difference in x_F_1 = 0.0\n",
      "Difference in x_F_2 = 0.0\n",
      "Difference in x_F_3 = 0.0\n",
      "Difference in x_F_4 = 0.0\n",
      "Difference in x_G_1 = 0.0\n",
      "Difference in x_G_2 = 0.0\n",
      "Difference in x_G_3 = 0.0\n",
      "Difference in x_G_4 = 0.0\n"
     ]
    }
   ],
   "source": [
    "#objective function\n",
    "probC+=lpSum([production_vars_l[i][j]*(prod_cost_l[i][j]+trans_cost[i][j]) for i in factory for j in yarn]),\"total cost\"\n",
    "# demand constraint\n",
    "for j in yarn:\n",
    "    probC += lpSum([production_vars_l[i][j] for i in factory ]) >= demand[j],\"demand_%s\"%j\n",
    "\n",
    "# capacity constraint    \n",
    "for i in factory:\n",
    "    probC += lpSum([proc_time[i][j]*production_vars_l[i][j] for j in yarn]) <= capacity[i],\"capacity_%s\"%i\n",
    "\n",
    "# x_1A and x_1D constraint\n",
    "probC += production_vars_l[\"A\"][\"1\"]==0,\"xA1=0\"\n",
    "probC += production_vars_l[\"D\"][\"1\"]==0,\"xD1=0\"\n",
    "#solve LP\n",
    "probC.writeLP(\"Filatoi2C.lp\")\n",
    "probC.solve()\n",
    "print(\"Status:\",LpStatus[probC.status])\n",
    "#print optimal solution\n",
    "for v in probC.variables():\n",
    "    print(v.name, \"=\", v.varValue,\"\\tReduced Cost =\", v.dj)\n",
    "print(\"Total cost =\", value(probC.objective))\n",
    "\n",
    "for u,v in zip(probA.variables(),probC.variables()):\n",
    "    print(\"Difference in\", v.name,\"=\",u.varValue-v.varValue)\n",
    "\n",
    "#for i in factory:\n",
    "#    for j in yarn:\n",
    "#        print(value(production_vars[i][j])-value(production_vars_l[i][j]))"
   ]
  },
  {
   "cell_type": "code",
   "execution_count": null,
   "metadata": {
    "collapsed": true
   },
   "outputs": [],
   "source": []
  },
  {
   "cell_type": "code",
   "execution_count": null,
   "metadata": {
    "collapsed": true
   },
   "outputs": [],
   "source": []
  }
 ],
 "metadata": {
  "kernelspec": {
   "display_name": "Python 3",
   "language": "python",
   "name": "python3"
  },
  "language_info": {
   "codemirror_mode": {
    "name": "ipython",
    "version": 3
   },
   "file_extension": ".py",
   "mimetype": "text/x-python",
   "name": "python",
   "nbconvert_exporter": "python",
   "pygments_lexer": "ipython3",
   "version": "3.6.5"
  }
 },
 "nbformat": 4,
 "nbformat_minor": 2
}
