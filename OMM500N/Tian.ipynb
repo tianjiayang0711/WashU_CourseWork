{
 "cells": [
  {
   "cell_type": "markdown",
   "metadata": {},
   "source": [
    "## Step 1. Import libraries"
   ]
  },
  {
   "cell_type": "code",
   "execution_count": 1,
   "metadata": {},
   "outputs": [],
   "source": [
    "from pulp import *\n",
    "#pulpTestAll()  # test solvers\n",
    "import pandas as pd\n",
    "import numpy as np\n",
    "import scipy as sci"
   ]
  },
  {
   "cell_type": "markdown",
   "metadata": {},
   "source": [
    "## Step 2: Define a variable using LpProblem to represent the optimization problem\n",
    "\n"
   ]
  },
  {
   "cell_type": "code",
   "execution_count": 3,
   "metadata": {},
   "outputs": [],
   "source": [
    "question1 = LpProblem(\"question1\",LpMinimize)"
   ]
  },
  {
   "cell_type": "markdown",
   "metadata": {},
   "source": [
    "## Step 3: Define decision variables using LpVariable\n"
   ]
  },
  {
   "cell_type": "code",
   "execution_count": 4,
   "metadata": {},
   "outputs": [],
   "source": [
    "xae=LpVariable(\"xae\",lowBound=0,upBound=0,cat='Integer')# can't produce extrafine\n",
    "xaf=LpVariable(\"xaf\",lowBound=0,upBound=999999,cat='Integer')\n",
    "xam=LpVariable(\"xam\",lowBound=0,upBound=999999,cat='Integer')\n",
    "xac=LpVariable(\"xac\",lowBound=0,upBound=999999,cat='Integer')\n",
    "xbe=LpVariable(\"xbe\",lowBound=0,upBound=999999,cat='Integer')\n",
    "xbf=LpVariable(\"xbf\",lowBound=0,upBound=999999,cat='Integer')\n",
    "xbm=LpVariable(\"xbm\",lowBound=0,upBound=999999,cat='Integer')\n",
    "xbc=LpVariable(\"xbc\",lowBound=0,upBound=999999,cat='Integer')\n",
    "xce=LpVariable(\"xce\",lowBound=0,upBound=999999,cat='Integer')\n",
    "xcf=LpVariable(\"xcf\",lowBound=0,upBound=999999,cat='Integer')\n",
    "xcm=LpVariable(\"xcm\",lowBound=0,upBound=999999,cat='Integer')\n",
    "xcc=LpVariable(\"xcc\",lowBound=0,upBound=999999,cat='Integer')\n",
    "xde=LpVariable(\"xde\",lowBound=0,upBound=0,cat='Integer')# can't produce extrafine\n",
    "xdf=LpVariable(\"xdf\",lowBound=0,upBound=999999,cat='Integer')\n",
    "xdm=LpVariable(\"xdm\",lowBound=0,upBound=999999,cat='Integer')\n",
    "xdc=LpVariable(\"xdc\",lowBound=0,upBound=999999,cat='Integer')\n",
    "xee=LpVariable(\"xee\",lowBound=0,upBound=999999,cat='Integer')\n",
    "xef=LpVariable(\"xef\",lowBound=0,upBound=999999,cat='Integer')\n",
    "xem=LpVariable(\"xem\",lowBound=0,upBound=999999,cat='Integer')\n",
    "xec=LpVariable(\"xec\",lowBound=0,upBound=999999,cat='Integer')\n",
    "xfe=LpVariable(\"xfe\",lowBound=0,upBound=999999,cat='Integer')\n",
    "xff=LpVariable(\"xff\",lowBound=0,upBound=999999,cat='Integer')\n",
    "xfm=LpVariable(\"xfm\",lowBound=0,upBound=999999,cat='Integer')\n",
    "xfc=LpVariable(\"xfc\",lowBound=0,upBound=999999,cat='Integer')\n",
    "xge=LpVariable(\"xge\",lowBound=0,upBound=999999,cat='Integer')\n",
    "xgf=LpVariable(\"xgf\",lowBound=0,upBound=999999,cat='Integer')\n",
    "xgm=LpVariable(\"xgm\",lowBound=0,upBound=999999,cat='Integer')\n",
    "xgc=LpVariable(\"xgc\",lowBound=0,upBound=999999,cat='Integer')"
   ]
  },
  {
   "cell_type": "markdown",
   "metadata": {},
   "source": [
    "## Step 4: Add the objective function and constraints to the LP problem using += operator"
   ]
  },
  {
   "cell_type": "code",
   "execution_count": 5,
   "metadata": {},
   "outputs": [],
   "source": [
    "#read external data - production cost\n",
    "production = pd.read_excel('C:/OMM500N/Filatoi tables.xlsx',sheet_name='production cost')"
   ]
  },
  {
   "cell_type": "code",
   "execution_count": 6,
   "metadata": {},
   "outputs": [
    {
     "data": {
      "text/plain": [
       "array([[ 0.  , 13.  , 10.65,  9.6 ],\n",
       "       [17.4 , 14.1 , 11.2 ,  9.45],\n",
       "       [17.4 , 14.22, 11.  ,  9.5 ],\n",
       "       [ 0.  , 14.3 , 11.25,  9.6 ],\n",
       "       [17.5 , 13.8 , 11.4 ,  9.6 ],\n",
       "       [18.25, 13.9 , 11.4 ,  8.9 ],\n",
       "       [19.75, 13.9 , 10.75,  9.4 ]])"
      ]
     },
     "execution_count": 6,
     "metadata": {},
     "output_type": "execute_result"
    }
   ],
   "source": [
    "production_array = production.fillna(0).values #the production cost matrix\n",
    "production_array"
   ]
  },
  {
   "cell_type": "code",
   "execution_count": 7,
   "metadata": {},
   "outputs": [
    {
     "data": {
      "text/plain": [
       "array([[0.3 , 0.3 , 0.45, 0.45],\n",
       "       [0.4 , 0.4 , 0.6 , 0.6 ],\n",
       "       [0.8 , 0.8 , 1.2 , 1.2 ],\n",
       "       [0.7 , 0.7 , 1.05, 1.05],\n",
       "       [0.7 , 0.7 , 1.05, 1.05],\n",
       "       [0.  , 0.  , 0.  , 0.  ],\n",
       "       [0.5 , 0.5 , 0.75, 0.75]])"
      ]
     },
     "execution_count": 7,
     "metadata": {},
     "output_type": "execute_result"
    }
   ],
   "source": [
    "round_trip=[30,40,80,70,70,0,50]\n",
    "transportation = pd.read_excel('C:/OMM500N/Filatoi tables.xlsx',sheet_name='transportation cost')\n",
    "transportation_array = transportation.values\n",
    "transportation_array"
   ]
  },
  {
   "cell_type": "code",
   "execution_count": 8,
   "metadata": {},
   "outputs": [
    {
     "data": {
      "text/plain": [
       "array([[ 0.3 , 13.3 , 11.1 , 10.05],\n",
       "       [17.8 , 14.5 , 11.8 , 10.05],\n",
       "       [18.2 , 15.02, 12.2 , 10.7 ],\n",
       "       [ 0.7 , 15.  , 12.3 , 10.65],\n",
       "       [18.2 , 14.5 , 12.45, 10.65],\n",
       "       [18.25, 13.9 , 11.4 ,  8.9 ],\n",
       "       [20.25, 14.4 , 11.5 , 10.15]])"
      ]
     },
     "execution_count": 8,
     "metadata": {},
     "output_type": "execute_result"
    }
   ],
   "source": [
    "a = transportation_array + production_array\n",
    "a"
   ]
  },
  {
   "cell_type": "code",
   "execution_count": 9,
   "metadata": {},
   "outputs": [
    {
     "data": {
      "text/plain": [
       "array([[0.   , 0.4  , 0.375, 0.25 ],\n",
       "       [0.7  , 0.5  , 0.35 , 0.25 ],\n",
       "       [0.675, 0.45 , 0.4  , 0.25 ],\n",
       "       [0.   , 0.45 , 0.35 , 0.2  ],\n",
       "       [0.65 , 0.45 , 0.4  , 0.25 ],\n",
       "       [0.625, 0.5  , 0.425, 0.425],\n",
       "       [0.7  , 0.45 , 0.35 , 0.4  ]])"
      ]
     },
     "execution_count": 9,
     "metadata": {},
     "output_type": "execute_result"
    }
   ],
   "source": [
    "time = pd.read_excel('C:/OMM500N/Filatoi tables.xlsx',sheet_name='time').fillna(0).values\n",
    "time"
   ]
  },
  {
   "cell_type": "code",
   "execution_count": 10,
   "metadata": {},
   "outputs": [],
   "source": [
    "question1+=(0.3*xae+13.3*xaf+11.1*xam+10.05*xac+17.8*xbe+14.5*xbf+\n",
    "        11.8*xbm+10.05*xbc+18.2*xce+15.02*xcf+12.2*xcm+10.7*xcc + 0.7*xde + 15*xdf + 12.3*xdm + 10.65*xdc + 18.2*xee + 14.5*xef + \n",
    "           12.45*xem + 10.65*xec + 18.25*xfe + 13.9*xff + 11.4*xfm + 8.9*xfc + 20.25*xge + 14.4*xgf \n",
    "          + 11.5*xgm + 10.15*xgc)\n",
    "\n",
    "question1 += xae+xbe+xce+xde+xee+xfe+xge == 25000\n",
    "question1 +=  xaf+xbf+xcf+xdf+xef+xff+xgf ==26000\n",
    "question1 += xam+xbm+xcm+xdm+xem+xfm+xgm  ==28000\n",
    "question1 +=  xac+xbc+xcc+xdc+xec+xfc+xgc ==28000\n",
    "question1 += 0*xae + 0.4*xaf +0.375*xam + 0.25*xac  <=2500\n",
    "question1 +=0.7*xbe + 0.5*xbf + 0.35*xbm + 0.25*xbc <=3000\n",
    "question1 +=  0.675*xce + 0.45*xcf + 0.4*xcm +0.25*xcc <=2500\n",
    "question1 += 0*xde + 0.45*xdf + 0.35*xdm + 0.2*xdc  <=2600\n",
    "question1 += 0.65*xee + 0.45*xef + 0.4*xem + 0.25*xec  <=2500\n",
    "question1 += 0.625*xfe + 0.5*xff + 0.425*xfm + 0.425*xfc  <=38000\n",
    "question1 += 0.7*xge +0.45*xgf +0.35*xgm + 0.4*xgc  <=2500\n"
   ]
  },
  {
   "cell_type": "code",
   "execution_count": 11,
   "metadata": {},
   "outputs": [
    {
     "data": {
      "text/plain": [
       "question1:\n",
       "MINIMIZE\n",
       "10.05*xac + 0.3*xae + 13.3*xaf + 11.1*xam + 10.05*xbc + 17.8*xbe + 14.5*xbf + 11.8*xbm + 10.7*xcc + 18.2*xce + 15.02*xcf + 12.2*xcm + 10.65*xdc + 0.7*xde + 15*xdf + 12.3*xdm + 10.65*xec + 18.2*xee + 14.5*xef + 12.45*xem + 8.9*xfc + 18.25*xfe + 13.9*xff + 11.4*xfm + 10.15*xgc + 20.25*xge + 14.4*xgf + 11.5*xgm + 0.0\n",
       "SUBJECT TO\n",
       "_C1: xae + xbe + xce + xde + xee + xfe + xge = 25000\n",
       "\n",
       "_C2: xaf + xbf + xcf + xdf + xef + xff + xgf = 26000\n",
       "\n",
       "_C3: xam + xbm + xcm + xdm + xem + xfm + xgm = 28000\n",
       "\n",
       "_C4: xac + xbc + xcc + xdc + xec + xfc + xgc = 28000\n",
       "\n",
       "_C5: 0.25 xac + 0.4 xaf + 0.375 xam <= 2500\n",
       "\n",
       "_C6: 0.25 xbc + 0.7 xbe + 0.5 xbf + 0.35 xbm <= 3000\n",
       "\n",
       "_C7: 0.25 xcc + 0.675 xce + 0.45 xcf + 0.4 xcm <= 2500\n",
       "\n",
       "_C8: 0.2 xdc + 0.45 xdf + 0.35 xdm <= 2600\n",
       "\n",
       "_C9: 0.25 xec + 0.65 xee + 0.45 xef + 0.4 xem <= 2500\n",
       "\n",
       "_C10: 0.425 xfc + 0.625 xfe + 0.5 xff + 0.425 xfm <= 38000\n",
       "\n",
       "_C11: 0.4 xgc + 0.7 xge + 0.45 xgf + 0.35 xgm <= 2500\n",
       "\n",
       "VARIABLES\n",
       "0 <= xac <= 999999 Integer\n",
       "xae = 0 Integer\n",
       "0 <= xaf <= 999999 Integer\n",
       "0 <= xam <= 999999 Integer\n",
       "0 <= xbc <= 999999 Integer\n",
       "0 <= xbe <= 999999 Integer\n",
       "0 <= xbf <= 999999 Integer\n",
       "0 <= xbm <= 999999 Integer\n",
       "0 <= xcc <= 999999 Integer\n",
       "0 <= xce <= 999999 Integer\n",
       "0 <= xcf <= 999999 Integer\n",
       "0 <= xcm <= 999999 Integer\n",
       "0 <= xdc <= 999999 Integer\n",
       "xde = 0 Integer\n",
       "0 <= xdf <= 999999 Integer\n",
       "0 <= xdm <= 999999 Integer\n",
       "0 <= xec <= 999999 Integer\n",
       "0 <= xee <= 999999 Integer\n",
       "0 <= xef <= 999999 Integer\n",
       "0 <= xem <= 999999 Integer\n",
       "0 <= xfc <= 999999 Integer\n",
       "0 <= xfe <= 999999 Integer\n",
       "0 <= xff <= 999999 Integer\n",
       "0 <= xfm <= 999999 Integer\n",
       "0 <= xgc <= 999999 Integer\n",
       "0 <= xge <= 999999 Integer\n",
       "0 <= xgf <= 999999 Integer\n",
       "0 <= xgm <= 999999 Integer"
      ]
     },
     "execution_count": 11,
     "metadata": {},
     "output_type": "execute_result"
    }
   ],
   "source": [
    "question1"
   ]
  },
  {
   "cell_type": "markdown",
   "metadata": {},
   "source": [
    "## Step 5: Run solver\n",
    "\n"
   ]
  },
  {
   "cell_type": "code",
   "execution_count": 12,
   "metadata": {},
   "outputs": [
    {
     "name": "stdout",
     "output_type": "stream",
     "text": [
      "Status: Optimal\n"
     ]
    }
   ],
   "source": [
    "question1.writeLP(\"quesion1.lp\") #optional\n",
    "question1.solve()\n",
    "print(\"Status:\",LpStatus[question1.status])"
   ]
  },
  {
   "cell_type": "code",
   "execution_count": 13,
   "metadata": {},
   "outputs": [
    {
     "name": "stdout",
     "output_type": "stream",
     "text": [
      "xac = 0.0 \tReduced Cost = 10.05\n",
      "xae = 0.0 \tReduced Cost = 0.3\n",
      "xaf = 6250.0 \tReduced Cost = 13.3\n",
      "xam = 0.0 \tReduced Cost = 11.1\n",
      "xbc = 0.0 \tReduced Cost = 10.05\n",
      "xbe = 4285.0 \tReduced Cost = 17.8\n",
      "xbf = 0.0 \tReduced Cost = 14.5\n",
      "xbm = 1.0 \tReduced Cost = 11.8\n",
      "xcc = 0.0 \tReduced Cost = 10.7\n",
      "xce = 3703.0 \tReduced Cost = 18.2\n",
      "xcf = 0.0 \tReduced Cost = 15.02\n",
      "xcm = 1.0 \tReduced Cost = 12.2\n",
      "xdc = 0.0 \tReduced Cost = 10.65\n",
      "xde = 0.0 \tReduced Cost = 0.7\n",
      "xdf = 2.0 \tReduced Cost = 15.0\n",
      "xdm = 2039.0 \tReduced Cost = 12.3\n",
      "xec = 0.0 \tReduced Cost = 10.65\n",
      "xee = 3846.0 \tReduced Cost = 18.2\n",
      "xef = 0.0 \tReduced Cost = 14.5\n",
      "xem = 0.0 \tReduced Cost = 12.45\n",
      "xfc = 28000.0 \tReduced Cost = 8.9\n",
      "xfe = 13166.0 \tReduced Cost = 18.25\n",
      "xff = 19748.0 \tReduced Cost = 13.9\n",
      "xfm = 18817.0 \tReduced Cost = 11.4\n",
      "xgc = 0.0 \tReduced Cost = 10.15\n",
      "xge = 0.0 \tReduced Cost = 20.25\n",
      "xgf = 0.0 \tReduced Cost = 14.4\n",
      "xgm = 7142.0 \tReduced Cost = 11.5\n",
      "Total revenue= 1382547.0\n"
     ]
    }
   ],
   "source": [
    "for v in question1.variables():\n",
    "    print(v.name, \"=\", v.varValue,\"\\tReduced Cost =\", v.dj)\n",
    "    \n",
    "print(\"Total revenue=\", value(question1.objective))"
   ]
  },
  {
   "cell_type": "code",
   "execution_count": 17,
   "metadata": {},
   "outputs": [
    {
     "name": "stdout",
     "output_type": "stream",
     "text": [
      "[19.1625, 14.595, 11.97, 9.345]\n",
      "[17.3375, 13.205, 10.83, 8.455]\n",
      "[0.9125000000000001, 0.6950000000000001, 0.5700000000000001, 0.44500000000000006]\n"
     ]
    }
   ],
   "source": [
    "#two extreme cases\n",
    "f=[18.25, 13.9 , 11.4 ,  8.9 ]\n",
    "f_max = [1.05*i for i in f]\n",
    "f_min = [0.95*i for i in f]\n",
    "f_delta = [0.05*i for i in f]\n",
    "print(f_max)\n",
    "print(f_min)\n",
    "print(f_delta)"
   ]
  }
 ],
 "metadata": {
  "kernelspec": {
   "display_name": "Python 3",
   "language": "python",
   "name": "python3"
  },
  "language_info": {
   "codemirror_mode": {
    "name": "ipython",
    "version": 3
   },
   "file_extension": ".py",
   "mimetype": "text/x-python",
   "name": "python",
   "nbconvert_exporter": "python",
   "pygments_lexer": "ipython3",
   "version": "3.6.5"
  }
 },
 "nbformat": 4,
 "nbformat_minor": 2
}
